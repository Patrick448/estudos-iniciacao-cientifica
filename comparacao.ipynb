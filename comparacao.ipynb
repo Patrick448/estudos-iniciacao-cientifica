{
 "cells": [
  {
   "cell_type": "code",
   "execution_count": 2,
   "metadata": {
    "collapsed": true,
    "pycharm": {
     "name": "#%%\n"
    }
   },
   "outputs": [],
   "source": [
    "from ES import populational_isotropic_ES, populational_non_isotropic_ES, ESAlgorithm\n",
    "import matplotlib.pyplot as plt\n",
    "import numpy as np\n",
    "from py_expression_eval import Parser\n",
    "parser = Parser()\n"
   ]
  },
  {
   "cell_type": "markdown",
   "source": [
    "# Comparação dos Algoritmos"
   ],
   "metadata": {
    "collapsed": false,
    "pycharm": {
     "name": "#%% md\n"
    }
   }
  },
  {
   "cell_type": "code",
   "execution_count": null,
   "outputs": [],
   "source": [
    "def f1(seed=0):\n",
    "    experiment = {}\n",
    "\n",
    "    alg = ESAlgorithm()\n",
    "    alg.set_evaluation_expression(\"(x + 2*y - 7)^2 + (2*x + y - 5)^2\")\n",
    "    alg.set_variable_bounds(\"x\", 10, True, -10, True)\n",
    "    alg.set_variable_bounds(\"y\", 10, True, -10, True)\n",
    "\n",
    "    res_1 = alg.one_plus_one_ES(sigma=0.5, c=0.817, n=10, iter=300, seed=seed)\n",
    "    res_2 = alg.populational_isotropic_ES(sigma_var=0.5, dimension_gen_interval=(-10, 10), iter=10, seed=seed, num_parents=3, num_offspring=10)\n",
    "    res_3 = alg.populational_non_isotropic_ES(sigma_var=0.5, dimension_gen_interval=(-10, 10), iter=10, seed=seed, num_parents=3, num_offspring=10)\n",
    "\n",
    "    experiment['1p1'] =  res_1[-2:-1][0]['eval']\n",
    "    experiment['pi'] =  res_2[0]['eval']\n",
    "    experiment['pni'] =  res_3[0]['eval']\n",
    "\n",
    "    #print(res_1[-2:-1][0]['eval'])\n",
    "    #print(res_2[0]['eval'])\n",
    "    #print(res_3[0]['eval'])\n",
    "    return experiment\n",
    "\n",
    "\n",
    "experiments = []\n",
    "num_exp = 30\n",
    "for i in range(num_exp):\n",
    "    experiments.append(f1(i))"
   ],
   "metadata": {
    "collapsed": false,
    "pycharm": {
     "name": "#%%\n"
    }
   }
  },
  {
   "cell_type": "code",
   "execution_count": 38,
   "outputs": [
    {
     "data": {
      "text/plain": "<Figure size 640x480 with 1 Axes>",
      "image/png": "[encoded data removed]"
     },
     "metadata": {},
     "output_type": "display_data"
    },
    {
     "name": "stdout",
     "output_type": "stream",
     "text": [
      "[[0.0001514978900306747, 5.648333419703354e-07, 0.0017523373159911769, 2.8589466821314318e-05, 0.0003215697141869584], [24.40858381070044, 0.0006848664168721942, 280.03750013451116, 0.6133047721320168, 61.07491247125711], [8.98953114147052, 0.0010381364232191054, 59.11292720303176, 1.0586614387139304, 15.813720498139425]]\n"
     ]
    }
   ],
   "source": [
    "\n",
    "res_1p1 = [e['1p1'] for e in experiments]\n",
    "res_pi = [e['pi'] for e in experiments]\n",
    "res_pni = [e['pni'] for e in experiments]\n",
    "\n",
    "tabela = [None, None, None]\n",
    "\n",
    "def table_row(array):\n",
    "    return [np.average(array), np.min(array), np.max(array), np.median(array), np.std(array)]\n",
    "\n",
    "tabela[0] = table_row(res_1p1)\n",
    "tabela[1] = table_row(res_pi)\n",
    "tabela[2] = table_row(res_pni)\n",
    "\n",
    "fig, ax = plt.subplots()\n",
    "\n",
    "# hide axes\n",
    "fig.patch.set_visible(False)\n",
    "ax.axis('off')\n",
    "ax.axis('tight')\n",
    "\n",
    "ax.table(tabela, colLabels=['A', 'B', 'C', 'D', 'E'], loc='center')\n",
    "fig.tight_layout()\n",
    "plt.show()\n",
    "print(tabela)"
   ],
   "metadata": {
    "collapsed": false,
    "pycharm": {
     "name": "#%%\n"
    }
   }
  },
  {
   "cell_type": "code",
   "execution_count": 6,
   "outputs": [
    {
     "ename": "NameError",
     "evalue": "name 'res' is not defined",
     "output_type": "error",
     "traceback": [
      "\u001B[1;31m---------------------------------------------------------------------------\u001B[0m",
      "\u001B[1;31mNameError\u001B[0m                                 Traceback (most recent call last)",
      "Cell \u001B[1;32mIn [6], line 1\u001B[0m\n\u001B[1;32m----> 1\u001B[0m res \u001B[38;5;241m=\u001B[39m \u001B[43mf1\u001B[49m\u001B[43m(\u001B[49m\u001B[43m)\u001B[49m\n\u001B[0;32m      2\u001B[0m x_array \u001B[38;5;241m=\u001B[39m [i[\u001B[38;5;124m'\u001B[39m\u001B[38;5;124mdim\u001B[39m\u001B[38;5;124m'\u001B[39m][\u001B[38;5;124m'\u001B[39m\u001B[38;5;124mx\u001B[39m\u001B[38;5;124m'\u001B[39m] \u001B[38;5;28;01mfor\u001B[39;00m i \u001B[38;5;129;01min\u001B[39;00m res]\n\u001B[0;32m      3\u001B[0m y_array \u001B[38;5;241m=\u001B[39m [i[\u001B[38;5;124m'\u001B[39m\u001B[38;5;124mdim\u001B[39m\u001B[38;5;124m'\u001B[39m][\u001B[38;5;124m'\u001B[39m\u001B[38;5;124my\u001B[39m\u001B[38;5;124m'\u001B[39m] \u001B[38;5;28;01mfor\u001B[39;00m i \u001B[38;5;129;01min\u001B[39;00m res]\n",
      "Cell \u001B[1;32mIn [5], line 12\u001B[0m, in \u001B[0;36mf1\u001B[1;34m(seed)\u001B[0m\n\u001B[0;32m      8\u001B[0m res_1 \u001B[38;5;241m=\u001B[39m alg\u001B[38;5;241m.\u001B[39mpopulational_isotropic_ES(sigma_var\u001B[38;5;241m=\u001B[39m\u001B[38;5;241m0.5\u001B[39m, dimension_gen_interval\u001B[38;5;241m=\u001B[39m(\u001B[38;5;241m-\u001B[39m\u001B[38;5;241m10\u001B[39m, \u001B[38;5;241m10\u001B[39m), \u001B[38;5;28miter\u001B[39m\u001B[38;5;241m=\u001B[39m\u001B[38;5;241m20\u001B[39m, seed\u001B[38;5;241m=\u001B[39mseed, num_parents\u001B[38;5;241m=\u001B[39m\u001B[38;5;241m100\u001B[39m, num_offspring\u001B[38;5;241m=\u001B[39m\u001B[38;5;241m200\u001B[39m)\n\u001B[0;32m      9\u001B[0m res_2 \u001B[38;5;241m=\u001B[39m alg\u001B[38;5;241m.\u001B[39mpopulational_non_isotropic_ES(sigma_var\u001B[38;5;241m=\u001B[39m\u001B[38;5;241m0.5\u001B[39m, dimension_gen_interval\u001B[38;5;241m=\u001B[39m(\u001B[38;5;241m-\u001B[39m\u001B[38;5;241m10\u001B[39m, \u001B[38;5;241m10\u001B[39m), \u001B[38;5;28miter\u001B[39m\u001B[38;5;241m=\u001B[39m\u001B[38;5;241m20\u001B[39m, seed\u001B[38;5;241m=\u001B[39mseed, num_parents\u001B[38;5;241m=\u001B[39m\u001B[38;5;241m100\u001B[39m, num_offspring\u001B[38;5;241m=\u001B[39m\u001B[38;5;241m200\u001B[39m)\n\u001B[1;32m---> 12\u001B[0m \u001B[38;5;28;01mreturn\u001B[39;00m \u001B[43mres\u001B[49m\n",
      "\u001B[1;31mNameError\u001B[0m: name 'res' is not defined"
     ]
    }
   ],
   "source": [
    "res = f1()\n",
    "x_array = [i['dim']['x'] for i in res]\n",
    "y_array = [i['dim']['y'] for i in res]\n",
    "\n",
    "#plt.plot(x_array, y_array, 'ro', markersize=4)\n",
    "#plt.axis([-10, 10, -10, 10])\n",
    "#plt.show()\n",
    "print('\\n'.join([str(d) for d in res]))\n",
    "\n",
    "\n",
    "@np.vectorize\n",
    "def f(x, y):\n",
    "    return parser.parse(\"(x + 2*y - 7)^2 + (2*x + y - 5)^2\").evaluate({\"x\": x, \"y\": y})\n",
    "\n",
    "\n",
    "n = 100\n",
    "x = np.linspace(-10, 10, n)\n",
    "y = np.linspace(-10, 10, n)\n",
    "X, Y = np.meshgrid(x, y)\n",
    "\n",
    "fig, ax = plt.subplots(1, 1)\n",
    "cp = ax.contourf(X, Y, f(X, Y), 40, cmap=plt.cm.hot)\n",
    "fig.colorbar(cp)  # Add a colorbar to a plot\n",
    "ax.plot(x_array, y_array, 'bo', markersize=4)\n",
    "ax.set_title('Curvas de nível')\n",
    "ax.set_xlabel('x')\n",
    "ax.set_ylabel('y')\n",
    "plt.show()\n"
   ],
   "metadata": {
    "collapsed": false,
    "pycharm": {
     "name": "#%%\n"
    }
   }
  }
 ],
 "metadata": {
  "kernelspec": {
   "display_name": "Python 3",
   "language": "python",
   "name": "python3"
  },
  "language_info": {
   "codemirror_mode": {
    "name": "ipython",
    "version": 2
   },
   "file_extension": ".py",
   "mimetype": "text/x-python",
   "name": "python",
   "nbconvert_exporter": "python",
   "pygments_lexer": "ipython2",
   "version": "2.7.6"
  }
 },
 "nbformat": 4,
 "nbformat_minor": 0
}