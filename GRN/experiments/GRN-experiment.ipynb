{
 "cells": [
  {
   "cell_type": "code",
   "execution_count": 27,
   "metadata": {
    "collapsed": true,
    "pycharm": {
     "name": "#%%\n"
    },
    "ExecuteTime": {
     "end_time": "2023-05-17T17:06:56.559621838Z",
     "start_time": "2023-05-17T17:06:56.495020455Z"
    }
   },
   "outputs": [],
   "source": [
    "from ES import populational_isotropic_ES, populational_non_isotropic_ES, ESAlgorithm\n",
    "import matplotlib.pyplot as plt\n",
    "import numpy as np\n",
    "import time\n",
    "from py_expression_eval import Parser\n",
    "from GRN.GRN_aux_10 import evaluation\n",
    "from GRN.GRN_aux_5 import evaluation_5\n",
    "parser = Parser()"
   ]
  },
  {
   "cell_type": "markdown",
   "source": [
    "## EDO com 5 variáveis"
   ],
   "metadata": {
    "collapsed": false,
    "pycharm": {
     "name": "#%% md\n"
    }
   }
  },
  {
   "cell_type": "code",
   "execution_count": 28,
   "outputs": [],
   "source": [
    "IND_SIZE    = 15  # Tamanho do indivíduo (quantidade de coeficientes)\n",
    "MIN_K       = 0.1  # Menor valor que K pode assumir\n",
    "MAX_K       = 1  # Maior valor que K pode assumir\n",
    "MIN_N       = 1  # Menor valor que N pode assumir\n",
    "MAX_N       = 25  # Maior valor que N pode assumir\n",
    "MIN_TAU     = 0.1  # Menor valor que TAU pode assumir\n",
    "MAX_TAU     = 5  # Maior valor que TAU pode assumir\n",
    "MIN_STRATEGY = 0.1  # Menor valor que a estratégia pode assumir\n",
    "MAX_STRATEGY = 10  # Maior valor que a estratégia pode assumir\n",
    "TAU_SIZE    = 5\n",
    "N_SIZE      = 5\n",
    "K_SIZE      = 5\n",
    "\n",
    "\n",
    "file = open(\"results/GRN5-2000-python_impl.csv\", \"a\")\n",
    "file.write(\"1p1,pi,pni\\n\")\n",
    "\n",
    "def f1(seed=0):\n",
    "    experiment = {}\n",
    "    error_history = {'1p1': None, 'pi': None, 'pni': None}\n",
    "\n",
    "    alg = ESAlgorithm()\n",
    "    alg.set_evaluation_function(evaluation_5)\n",
    "    alg.set_num_dimensions(IND_SIZE)\n",
    "    #alg.set_global_variable_bounds(100, True, -100, True)\n",
    "\n",
    "    cont = 0\n",
    "    for j in range(0, TAU_SIZE, 1):\n",
    "        alg.set_variable_bounds_test(j, MAX_TAU, True, MIN_TAU, True)\n",
    "        cont = j\n",
    "\n",
    "    for j in range(cont + 1, cont + 1 + K_SIZE, 1):\n",
    "        alg.set_variable_bounds_test(j, MAX_K, True, MIN_K, True)\n",
    "        cont = j\n",
    "\n",
    "    for j in range(cont + 1, cont + 1 + N_SIZE, 1):\n",
    "        alg.set_variable_bounds_test(j, MAX_N, True, MIN_N, True)\n",
    "        cont = j\n",
    "\n",
    "    #alg.set_error_stop_criterion(0.0001)\n",
    "\n",
    "    res_1 = alg.one_plus_one_ES_test(sigma=0.5, c=0.817, n=10, iter=2000, seed=seed)\n",
    "    error_history['1p1'] = alg.get_execution_history()\n",
    "\n",
    "    res_2 = alg.populational_isotropic_ES_test(sigma_var=0.5, dimension_gen_interval=(-10, 10), iter=100, seed=seed,num_parents=10, num_offspring=20)\n",
    "    error_history['pi'] = alg.get_execution_history()\n",
    "\n",
    "    res_3 = alg.populational_non_isotropic_ES_test(sigma_var=0.5, dimension_gen_interval=(-10, 10), iter=100, seed=seed, num_parents=10, num_offspring=20)\n",
    "\n",
    "    error_history['pni'] = alg.get_execution_history()\n",
    "\n",
    "    experiment['1p1'] = res_1[-2:-1][0]['eval']\n",
    "    experiment['pi'] = res_2[0]['eval']\n",
    "    experiment['pni'] = res_3[0]['eval']\n",
    "\n",
    "    print(f\"{ res_1[-2:-1][0]['eval']},{res_2[0]['eval']},{res_3[0]['eval']}\")\n",
    "    file.write(f\"{ res_1[-2:-1][0]['eval']},{res_2[0]['eval']},{res_3[0]['eval']}\\n\")\n",
    "\n",
    "\n",
    "    return experiment, error_history\n"
   ],
   "metadata": {
    "collapsed": false,
    "pycharm": {
     "name": "#%%\n"
    },
    "ExecuteTime": {
     "end_time": "2023-05-17T17:06:56.578963311Z",
     "start_time": "2023-05-17T17:06:56.505922147Z"
    }
   }
  },
  {
   "cell_type": "code",
   "execution_count": 29,
   "outputs": [
    {
     "name": "stdout",
     "output_type": "stream",
     "text": [
      "Run 0\n",
      "98.77761412877862,48.87622304553813,61.58631114983643\n",
      "Time elapsed: 41.42061400413513\n",
      "Run 1\n",
      "62.604745436433035,82.82455104959732,96.68646476809951\n",
      "Time elapsed: 54.40732216835022\n",
      "Run 2\n",
      "35.93705654952833,77.35775819936303,91.22430970404464\n",
      "Time elapsed: 47.2542462348938\n"
     ]
    }
   ],
   "source": [
    "\n",
    "experiments = []\n",
    "num_exp = 3\n",
    "\n",
    "for i in range(num_exp):\n",
    "    print(f\"Run {i}\")\n",
    "    start = time.time()\n",
    "    experiments.append(f1(i))\n",
    "    end = time.time()\n",
    "    print(f\"Time elapsed: {end - start}\")\n",
    "\n",
    "file.close()"
   ],
   "metadata": {
    "collapsed": false,
    "ExecuteTime": {
     "end_time": "2023-05-17T17:09:19.658973602Z",
     "start_time": "2023-05-17T17:06:56.555621401Z"
    }
   }
  },
  {
   "cell_type": "code",
   "execution_count": 30,
   "outputs": [
    {
     "name": "stdout",
     "output_type": "stream",
     "text": [
      "[({'1p1': 98.77761412877862, 'pi': 48.87622304553813, 'pni': 61.58631114983643}, {'1p1': {'checkpoints': [2, 3, 4, 5, 6, 9, 16, 27, 46, 78, 134, 230, 394, 678, 1164, 2000, 2001], 'values': [0, 0, 0, 0, 0, 0, 0, 0, 0, 0, 0, 0, 0, 0, 0, 0, 0]}, 'pi': {'checkpoints': [30, 50, 70, 90, 110, 130, 150, 170, 190, 210, 230, 250, 410, 690, 1170, 2010, 2010], 'values': [0, 0, 0, 0, 0, 0, 0, 0, 0, 0, 0, 0, 0, 0, 0, 0, 0]}, 'pni': {'checkpoints': [30, 50, 70, 90, 110, 130, 150, 170, 190, 210, 230, 250, 410, 690, 1170, 2010, 2010], 'values': [0, 0, 0, 0, 0, 0, 0, 0, 0, 0, 0, 0, 0, 0, 0, 0, 0]}}), ({'1p1': 62.604745436433035, 'pi': 82.82455104959732, 'pni': 96.68646476809951}, {'1p1': {'checkpoints': [2, 3, 4, 5, 6, 9, 16, 27, 46, 78, 134, 230, 394, 678, 1164, 2000, 2001], 'values': [0, 0, 0, 0, 0, 0, 0, 0, 0, 0, 0, 0, 0, 0, 0, 0, 0]}, 'pi': {'checkpoints': [30, 50, 70, 90, 110, 130, 150, 170, 190, 210, 230, 250, 410, 690, 1170, 2010, 2010], 'values': [0, 0, 0, 0, 0, 0, 0, 0, 0, 0, 0, 0, 0, 0, 0, 0, 0]}, 'pni': {'checkpoints': [30, 50, 70, 90, 110, 130, 150, 170, 190, 210, 230, 250, 410, 690, 1170, 2010, 2010], 'values': [0, 0, 0, 0, 0, 0, 0, 0, 0, 0, 0, 0, 0, 0, 0, 0, 0]}}), ({'1p1': 35.93705654952833, 'pi': 77.35775819936303, 'pni': 91.22430970404464}, {'1p1': {'checkpoints': [2, 3, 4, 5, 6, 9, 16, 27, 46, 78, 134, 230, 394, 678, 1164, 2000, 2001], 'values': [0, 0, 0, 0, 0, 0, 0, 0, 0, 0, 0, 0, 0, 0, 0, 0, 0]}, 'pi': {'checkpoints': [30, 50, 70, 90, 110, 130, 150, 170, 190, 210, 230, 250, 410, 690, 1170, 2010, 2010], 'values': [0, 0, 0, 0, 0, 0, 0, 0, 0, 0, 0, 0, 0, 0, 0, 0, 0]}, 'pni': {'checkpoints': [30, 50, 70, 90, 110, 130, 150, 170, 190, 210, 230, 250, 410, 690, 1170, 2010, 2010], 'values': [0, 0, 0, 0, 0, 0, 0, 0, 0, 0, 0, 0, 0, 0, 0, 0, 0]}})]\n"
     ]
    }
   ],
   "source": [
    "print(experiments)"
   ],
   "metadata": {
    "collapsed": false,
    "pycharm": {
     "name": "#%%\n"
    },
    "ExecuteTime": {
     "end_time": "2023-05-17T17:09:19.660710082Z",
     "start_time": "2023-05-17T17:09:19.659256830Z"
    }
   }
  },
  {
   "cell_type": "code",
   "execution_count": 31,
   "outputs": [
    {
     "ename": "TypeError",
     "evalue": "tuple indices must be integers or slices, not str",
     "output_type": "error",
     "traceback": [
      "\u001B[0;31m---------------------------------------------------------------------------\u001B[0m",
      "\u001B[0;31mTypeError\u001B[0m                                 Traceback (most recent call last)",
      "Cell \u001B[0;32mIn[31], line 1\u001B[0m\n\u001B[0;32m----> 1\u001B[0m res_1p1 \u001B[38;5;241m=\u001B[39m [e[\u001B[38;5;124m'\u001B[39m\u001B[38;5;124m1p1\u001B[39m\u001B[38;5;124m'\u001B[39m] \u001B[38;5;28;01mfor\u001B[39;00m e \u001B[38;5;129;01min\u001B[39;00m experiments]\n\u001B[1;32m      2\u001B[0m res_pi \u001B[38;5;241m=\u001B[39m [e[\u001B[38;5;124m'\u001B[39m\u001B[38;5;124mpi\u001B[39m\u001B[38;5;124m'\u001B[39m] \u001B[38;5;28;01mfor\u001B[39;00m e \u001B[38;5;129;01min\u001B[39;00m experiments]\n\u001B[1;32m      3\u001B[0m res_pni \u001B[38;5;241m=\u001B[39m [e[\u001B[38;5;124m'\u001B[39m\u001B[38;5;124mpni\u001B[39m\u001B[38;5;124m'\u001B[39m] \u001B[38;5;28;01mfor\u001B[39;00m e \u001B[38;5;129;01min\u001B[39;00m experiments]\n",
      "Cell \u001B[0;32mIn[31], line 1\u001B[0m, in \u001B[0;36m<listcomp>\u001B[0;34m(.0)\u001B[0m\n\u001B[0;32m----> 1\u001B[0m res_1p1 \u001B[38;5;241m=\u001B[39m [\u001B[43me\u001B[49m\u001B[43m[\u001B[49m\u001B[38;5;124;43m'\u001B[39;49m\u001B[38;5;124;43m1p1\u001B[39;49m\u001B[38;5;124;43m'\u001B[39;49m\u001B[43m]\u001B[49m \u001B[38;5;28;01mfor\u001B[39;00m e \u001B[38;5;129;01min\u001B[39;00m experiments]\n\u001B[1;32m      2\u001B[0m res_pi \u001B[38;5;241m=\u001B[39m [e[\u001B[38;5;124m'\u001B[39m\u001B[38;5;124mpi\u001B[39m\u001B[38;5;124m'\u001B[39m] \u001B[38;5;28;01mfor\u001B[39;00m e \u001B[38;5;129;01min\u001B[39;00m experiments]\n\u001B[1;32m      3\u001B[0m res_pni \u001B[38;5;241m=\u001B[39m [e[\u001B[38;5;124m'\u001B[39m\u001B[38;5;124mpni\u001B[39m\u001B[38;5;124m'\u001B[39m] \u001B[38;5;28;01mfor\u001B[39;00m e \u001B[38;5;129;01min\u001B[39;00m experiments]\n",
      "\u001B[0;31mTypeError\u001B[0m: tuple indices must be integers or slices, not str"
     ]
    }
   ],
   "source": [
    "res_1p1 = [e['1p1'] for e in experiments]\n",
    "res_pi = [e['pi'] for e in experiments]\n",
    "res_pni = [e['pni'] for e in experiments]\n",
    "\n",
    "tabela = [None, None, None]\n",
    "\n",
    "def table_row(array):\n",
    "    row = [f\"{np.average(array):.2f}\", f\"{np.min(array):.2f}\", f\"{np.max(array):.2f}\", f\"{np.median(array):.2f}\",\n",
    "           f\"{np.std(array):.2f}\"]\n",
    "    return row\n",
    "\n",
    "\n",
    "tabela[0] = table_row(res_1p1)\n",
    "tabela[1] = table_row(res_pi)\n",
    "tabela[2] = table_row(res_pni)\n",
    "\n",
    "fig, ax = plt.subplots()\n",
    "# hide axes\n",
    "fig.patch.set_visible(False)\n",
    "\n",
    "ax.axis('off')\n",
    "ax.axis('tight')\n",
    "colLabels = ['Media', 'Melhor', 'Pior', 'Mediana', 'Desvio Padrão']\n",
    "rowLabels = [\"(1+1)-ES\", \"Pop. Iso.\", \"Pop. N. Iso.\"]\n",
    "table = ax.table(tabela, colLabels=colLabels, rowLabels=rowLabels, loc='center')\n",
    "table.scale(3, 2)\n",
    "table.set_fontsize(15)\n",
    "fig.tight_layout()\n",
    "\n",
    "fig_boxplot, ax_boxplot = plt.subplots()\n",
    "ax_boxplot.boxplot(x=[res_1p1, res_pi, res_pni], labels=[\"(1+1)-ES\", \"Pop. Iso.\", \"Pop. N. Iso.\"])\n",
    "\n",
    "plt.show()"
   ],
   "metadata": {
    "collapsed": false,
    "pycharm": {
     "name": "#%%\n"
    },
    "ExecuteTime": {
     "end_time": "2023-05-17T17:09:19.661149282Z",
     "start_time": "2023-05-17T17:09:19.659697769Z"
    }
   }
  }
 ],
 "metadata": {
  "kernelspec": {
   "display_name": "Python 3",
   "language": "python",
   "name": "python3"
  },
  "language_info": {
   "codemirror_mode": {
    "name": "ipython",
    "version": 2
   },
   "file_extension": ".py",
   "mimetype": "text/x-python",
   "name": "python",
   "nbconvert_exporter": "python",
   "pygments_lexer": "ipython2",
   "version": "2.7.6"
  }
 },
 "nbformat": 4,
 "nbformat_minor": 0
}
