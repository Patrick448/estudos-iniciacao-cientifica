{
 "cells": [
  {
   "cell_type": "code",
   "execution_count": 1,
   "metadata": {
    "pycharm": {
     "name": "#%%\n"
    },
    "ExecuteTime": {
     "end_time": "2023-10-04T15:45:22.328285595Z",
     "start_time": "2023-10-04T15:45:21.602669087Z"
    }
   },
   "outputs": [],
   "source": [
    "import matplotlib.pyplot as plt\n",
    "import numpy as np\n",
    "import csv\n",
    "import pandas as pd"
   ]
  },
  {
   "cell_type": "markdown",
   "source": [
    "# Comparação\n",
    "\n",
    "Comparação entre os seguintes métodos:\n",
    "<br>CMAES\n",
    "<br>(15+105)-ES isotrópico\n",
    "<br>(15+105)-ES não isotrópico\n"
   ],
   "metadata": {
    "collapsed": false
   }
  },
  {
   "cell_type": "markdown",
   "source": [
    "# GRN com 5 variáveis"
   ],
   "metadata": {
    "collapsed": false
   }
  },
  {
   "cell_type": "code",
   "execution_count": 2,
   "metadata": {
    "pycharm": {
     "name": "#%%\n"
    },
    "ExecuteTime": {
     "end_time": "2023-10-04T15:45:22.361652644Z",
     "start_time": "2023-10-04T15:45:22.332895047Z"
    }
   },
   "outputs": [],
   "source": [
    "# carrega os dados\n",
    "cmaes_grn5 = pd.read_csv('../results/GRN5-CMAES-1050000.csv')\n",
    "esi_grn5 = pd.read_csv('../results/GRN5-ESI-1050000.csv')\n",
    "esni_grn5 = pd.read_csv('../results/GRN5-ESNI-1050000.csv')\n",
    "\n",
    "# calcula as estatísticas da coluna 'eval'\n",
    "cmaes_grn5_eval_desc = cmaes_grn5.describe()['eval']\n",
    "esi_grn5_eval_desc = esi_grn5.describe()['eval']\n",
    "esni_grn5_eval_desc = esni_grn5.describe()['eval']\n",
    "\n"
   ]
  },
  {
   "cell_type": "code",
   "execution_count": 3,
   "outputs": [
    {
     "data": {
      "text/plain": "           CMAES       ES-I      ES-NI\ncount  30.000000  30.000000  30.000000\nmean    6.351584   8.693848   8.546326\nstd     0.898934   1.305782   1.111419\nmin     5.609062   6.958099   6.786254\n25%     5.853889   7.794310   7.696311\n50%     6.083585   8.505896   8.157460\n75%     6.392207   9.334080   9.362260\nmax     9.891999  12.976063  11.435744",
      "text/html": "<div>\n<style scoped>\n    .dataframe tbody tr th:only-of-type {\n        vertical-align: middle;\n    }\n\n    .dataframe tbody tr th {\n        vertical-align: top;\n    }\n\n    .dataframe thead th {\n        text-align: right;\n    }\n</style>\n<table border=\"1\" class=\"dataframe\">\n  <thead>\n    <tr style=\"text-align: right;\">\n      <th></th>\n      <th>CMAES</th>\n      <th>ES-I</th>\n      <th>ES-NI</th>\n    </tr>\n  </thead>\n  <tbody>\n    <tr>\n      <th>count</th>\n      <td>30.000000</td>\n      <td>30.000000</td>\n      <td>30.000000</td>\n    </tr>\n    <tr>\n      <th>mean</th>\n      <td>6.351584</td>\n      <td>8.693848</td>\n      <td>8.546326</td>\n    </tr>\n    <tr>\n      <th>std</th>\n      <td>0.898934</td>\n      <td>1.305782</td>\n      <td>1.111419</td>\n    </tr>\n    <tr>\n      <th>min</th>\n      <td>5.609062</td>\n      <td>6.958099</td>\n      <td>6.786254</td>\n    </tr>\n    <tr>\n      <th>25%</th>\n      <td>5.853889</td>\n      <td>7.794310</td>\n      <td>7.696311</td>\n    </tr>\n    <tr>\n      <th>50%</th>\n      <td>6.083585</td>\n      <td>8.505896</td>\n      <td>8.157460</td>\n    </tr>\n    <tr>\n      <th>75%</th>\n      <td>6.392207</td>\n      <td>9.334080</td>\n      <td>9.362260</td>\n    </tr>\n    <tr>\n      <th>max</th>\n      <td>9.891999</td>\n      <td>12.976063</td>\n      <td>11.435744</td>\n    </tr>\n  </tbody>\n</table>\n</div>"
     },
     "execution_count": 3,
     "metadata": {},
     "output_type": "execute_result"
    }
   ],
   "source": [
    "\n",
    "desc = pd.DataFrame({'CMAES': cmaes_grn5_eval_desc, 'ES-I': esi_grn5_eval_desc, 'ES-NI': esni_grn5_eval_desc})\n",
    "\n",
    "desc"
   ],
   "metadata": {
    "collapsed": false,
    "ExecuteTime": {
     "end_time": "2023-10-04T15:45:22.381952354Z",
     "start_time": "2023-10-04T15:45:22.368477798Z"
    }
   }
  },
  {
   "cell_type": "code",
   "execution_count": 4,
   "outputs": [],
   "source": [
    "cmaes_grn5_evals = cmaes_grn5['eval']\n",
    "esi_grn5_evals = esi_grn5['eval']\n",
    "esni_grn5_evals = esni_grn5['eval']"
   ],
   "metadata": {
    "collapsed": false,
    "ExecuteTime": {
     "end_time": "2023-10-04T15:45:22.382291414Z",
     "start_time": "2023-10-04T15:45:22.378908816Z"
    }
   }
  },
  {
   "cell_type": "code",
   "execution_count": 5,
   "outputs": [
    {
     "data": {
      "text/plain": "<Figure size 640x480 with 1 Axes>",
      "image/png": "[encoded data removed]"
     },
     "metadata": {},
     "output_type": "display_data"
    }
   ],
   "source": [
    "all_evals_grn5 = pd.DataFrame({'CMAES': cmaes_grn5_evals, 'ES-I': esi_grn5_evals, 'ES-NI': esni_grn5_evals})\n",
    "all_evals_grn5.boxplot(column=['CMAES', 'ES-I', 'ES-NI'])\n",
    "plt.show()"
   ],
   "metadata": {
    "collapsed": false,
    "ExecuteTime": {
     "end_time": "2023-10-04T15:45:22.622681392Z",
     "start_time": "2023-10-04T15:45:22.385184996Z"
    }
   }
  },
  {
   "cell_type": "code",
   "execution_count": 6,
   "outputs": [],
   "source": [
    "#print(cmaes_grn5['time'].mean());"
   ],
   "metadata": {
    "collapsed": false,
    "ExecuteTime": {
     "end_time": "2023-10-04T15:45:22.623026461Z",
     "start_time": "2023-10-04T15:45:22.594762978Z"
    }
   }
  },
  {
   "cell_type": "markdown",
   "source": [
    "# GRN com 10 variáveis"
   ],
   "metadata": {
    "collapsed": false
   }
  },
  {
   "cell_type": "code",
   "execution_count": 7,
   "outputs": [],
   "source": [
    "cmaes_grn10 = pd.read_csv('../results/GRN10-CMAES-1050000.csv')\n",
    "esi_grn10 = pd.read_csv('../results/GRN10-ESI-1050000.csv')\n",
    "esni_grn10 = pd.read_csv('../results/GRN10-ESNI-1050000.csv')\n",
    "\n",
    "\n",
    "cmaes_grn10_eval_desc = cmaes_grn10.describe()['eval']\n",
    "esi_grn10_eval_desc = esi_grn10.describe()['eval']\n",
    "esni_grn10_eval_desc = esni_grn10.describe()['eval']\n",
    "\n",
    "\n",
    "cmaes_grn10_evals = cmaes_grn10['eval']\n",
    "esi_grn10_evals = esi_grn10['eval']\n",
    "esni_grn10_evals = esni_grn10['eval']"
   ],
   "metadata": {
    "collapsed": false,
    "ExecuteTime": {
     "end_time": "2023-10-04T15:45:22.623222077Z",
     "start_time": "2023-10-04T15:45:22.594908887Z"
    }
   }
  },
  {
   "cell_type": "code",
   "execution_count": 8,
   "outputs": [
    {
     "data": {
      "text/plain": "           CMAES       ES-I      ES-NI\ncount  30.000000  30.000000  30.000000\nmean   13.944475  19.366346  28.549768\nstd     0.267318   1.970942   5.115731\nmin    13.515075  16.714033  19.230878\n25%    13.722589  18.646456  25.473893\n50%    13.965374  19.356498  27.954351\n75%    14.126715  19.707939  32.115823\nmax    14.535801  27.370248  39.225535",
      "text/html": "<div>\n<style scoped>\n    .dataframe tbody tr th:only-of-type {\n        vertical-align: middle;\n    }\n\n    .dataframe tbody tr th {\n        vertical-align: top;\n    }\n\n    .dataframe thead th {\n        text-align: right;\n    }\n</style>\n<table border=\"1\" class=\"dataframe\">\n  <thead>\n    <tr style=\"text-align: right;\">\n      <th></th>\n      <th>CMAES</th>\n      <th>ES-I</th>\n      <th>ES-NI</th>\n    </tr>\n  </thead>\n  <tbody>\n    <tr>\n      <th>count</th>\n      <td>30.000000</td>\n      <td>30.000000</td>\n      <td>30.000000</td>\n    </tr>\n    <tr>\n      <th>mean</th>\n      <td>13.944475</td>\n      <td>19.366346</td>\n      <td>28.549768</td>\n    </tr>\n    <tr>\n      <th>std</th>\n      <td>0.267318</td>\n      <td>1.970942</td>\n      <td>5.115731</td>\n    </tr>\n    <tr>\n      <th>min</th>\n      <td>13.515075</td>\n      <td>16.714033</td>\n      <td>19.230878</td>\n    </tr>\n    <tr>\n      <th>25%</th>\n      <td>13.722589</td>\n      <td>18.646456</td>\n      <td>25.473893</td>\n    </tr>\n    <tr>\n      <th>50%</th>\n      <td>13.965374</td>\n      <td>19.356498</td>\n      <td>27.954351</td>\n    </tr>\n    <tr>\n      <th>75%</th>\n      <td>14.126715</td>\n      <td>19.707939</td>\n      <td>32.115823</td>\n    </tr>\n    <tr>\n      <th>max</th>\n      <td>14.535801</td>\n      <td>27.370248</td>\n      <td>39.225535</td>\n    </tr>\n  </tbody>\n</table>\n</div>"
     },
     "execution_count": 8,
     "metadata": {},
     "output_type": "execute_result"
    }
   ],
   "source": [
    "desc = pd.DataFrame({'CMAES': cmaes_grn10_eval_desc, 'ES-I': esi_grn10_eval_desc, 'ES-NI': esni_grn10_eval_desc})\n",
    "desc"
   ],
   "metadata": {
    "collapsed": false,
    "ExecuteTime": {
     "end_time": "2023-10-04T15:45:22.639430961Z",
     "start_time": "2023-10-04T15:45:22.597706379Z"
    }
   }
  },
  {
   "cell_type": "markdown",
   "source": [],
   "metadata": {
    "collapsed": false
   }
  },
  {
   "cell_type": "code",
   "execution_count": 9,
   "outputs": [
    {
     "data": {
      "text/plain": "<Figure size 640x480 with 1 Axes>",
      "image/png": "[encoded data removed]"
     },
     "metadata": {},
     "output_type": "display_data"
    }
   ],
   "source": [
    "all_evals_grn10 = pd.DataFrame({'CMAES': cmaes_grn10_evals, 'ES-I': esi_grn10_evals, 'ES-NI': esni_grn10_evals})\n",
    "all_evals_grn10.boxplot(column=['CMAES', 'ES-I', 'ES-NI'])\n",
    "plt.show()"
   ],
   "metadata": {
    "collapsed": false,
    "ExecuteTime": {
     "end_time": "2023-10-04T15:45:22.831073359Z",
     "start_time": "2023-10-04T15:45:22.638836699Z"
    }
   }
  },
  {
   "cell_type": "code",
   "execution_count": 12,
   "outputs": [
    {
     "data": {
      "text/plain": "seed                                                       16\neval                                                 5.609062\ntime                                                     4041\nnumEvals                                              1050026\nind         1.520545240399408,2.139288198864691,1.34153408...\nName: 11, dtype: object"
     },
     "execution_count": 12,
     "metadata": {},
     "output_type": "execute_result"
    }
   ],
   "source": [
    "\n",
    "cmaes_grn5.iloc[cmaes_grn5['eval'].idxmin()]"
   ],
   "metadata": {
    "collapsed": false,
    "ExecuteTime": {
     "end_time": "2023-10-04T15:46:11.980651212Z",
     "start_time": "2023-10-04T15:46:11.972792951Z"
    }
   }
  },
  {
   "cell_type": "code",
   "execution_count": 14,
   "outputs": [
    {
     "data": {
      "text/plain": "'1.267095950102094,1.365182598532360,1.119405181869575,0.997336585122246,1.281872298458689,1.403448544235900,1.683719568671171,1.800942788785953,4.136090641890769,4.999998595885190,0.427468932668115,0.586684069579212,0.758446863293128,0.999999977471050,0.725220388678875,0.453428079256171,0.417091843259223,0.613944961767408,0.999998011207616,0.803729917773690,0.632640083070657,0.525419489694660,0.495596894930408,0.366035127423088,0.271790285284193,14.119865272786430,6.402677089430371,14.126247482959975,25.000000000000000,2.234165977002816,2.128843561356976,10.936890215926082,6.260571136964968,16.171917040250889,15.880055255530912,5.189567093552469,6.605886360385916,24.664050343740637,15.908561352040196,7.298508061738766,13.515074685868716'"
     },
     "execution_count": 14,
     "metadata": {},
     "output_type": "execute_result"
    }
   ],
   "source": [
    "cmaes_grn10.iloc[cmaes_grn10['eval'].idxmin()]['ind']"
   ],
   "metadata": {
    "collapsed": false,
    "ExecuteTime": {
     "end_time": "2023-10-04T15:48:00.291212455Z",
     "start_time": "2023-10-04T15:48:00.244781298Z"
    }
   }
  }
 ],
 "metadata": {
  "celltoolbar": "Tags",
  "kernelspec": {
   "display_name": "Python 3 (ipykernel)",
   "language": "python",
   "name": "python3"
  },
  "language_info": {
   "codemirror_mode": {
    "name": "ipython",
    "version": 3
   },
   "file_extension": ".py",
   "mimetype": "text/x-python",
   "name": "python",
   "nbconvert_exporter": "python",
   "pygments_lexer": "ipython3",
   "version": "3.10.0"
  }
 },
 "nbformat": 4,
 "nbformat_minor": 1
}
