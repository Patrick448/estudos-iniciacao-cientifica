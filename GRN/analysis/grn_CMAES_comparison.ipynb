{
 "cells": [
  {
   "cell_type": "code",
   "execution_count": 10,
   "metadata": {
    "pycharm": {
     "name": "#%%\n"
    },
    "ExecuteTime": {
     "end_time": "2023-10-02T18:05:53.325263837Z",
     "start_time": "2023-10-02T18:05:53.257192063Z"
    }
   },
   "outputs": [],
   "source": [
    "import matplotlib.pyplot as plt\n",
    "import numpy as np\n",
    "import csv\n",
    "import pandas as pd"
   ]
  },
  {
   "cell_type": "markdown",
   "source": [
    "# Comparação\n",
    "\n",
    "Comparação entre os seguintes métodos:\n",
    "<br>CMAES\n",
    "<br>(15+105)-ES isotrópico\n",
    "<br>(15+105)-ES não isotrópico\n"
   ],
   "metadata": {
    "collapsed": false
   }
  },
  {
   "cell_type": "markdown",
   "source": [
    "# GRN com 5 variáveis"
   ],
   "metadata": {
    "collapsed": false
   }
  },
  {
   "cell_type": "code",
   "execution_count": 11,
   "metadata": {
    "pycharm": {
     "name": "#%%\n"
    },
    "ExecuteTime": {
     "end_time": "2023-10-02T18:05:53.345330328Z",
     "start_time": "2023-10-02T18:05:53.281602559Z"
    }
   },
   "outputs": [],
   "source": [
    "# carrega os dados\n",
    "cmaes_grn5 = pd.read_csv('../results/GRN5-CMAES-1050000.csv')\n",
    "esi_grn5 = pd.read_csv('../results/GRN5-ESI-1050000.csv')\n",
    "esni_grn5 = pd.read_csv('../results/GRN5-ESNI-1050000.csv')\n",
    "\n",
    "# calcula as estatísticas da coluna 'eval'\n",
    "cmaes_grn5_eval_desc = cmaes_grn5.describe()['eval']\n",
    "esi_grn5_eval_desc = esi_grn5.describe()['eval']\n",
    "esni_grn5_eval_desc = esni_grn5.describe()['eval']\n",
    "\n"
   ]
  },
  {
   "cell_type": "code",
   "execution_count": 12,
   "outputs": [
    {
     "data": {
      "text/plain": "           CMAES       ES-I      ES-NI\ncount  30.000000  30.000000  30.000000\nmean    6.351584   8.693848   8.546326\nstd     0.898934   1.305782   1.111419\nmin     5.609062   6.958099   6.786254\n25%     5.853889   7.794310   7.696311\n50%     6.083585   8.505896   8.157460\n75%     6.392207   9.334080   9.362260\nmax     9.891999  12.976063  11.435744",
      "text/html": "<div>\n<style scoped>\n    .dataframe tbody tr th:only-of-type {\n        vertical-align: middle;\n    }\n\n    .dataframe tbody tr th {\n        vertical-align: top;\n    }\n\n    .dataframe thead th {\n        text-align: right;\n    }\n</style>\n<table border=\"1\" class=\"dataframe\">\n  <thead>\n    <tr style=\"text-align: right;\">\n      <th></th>\n      <th>CMAES</th>\n      <th>ES-I</th>\n      <th>ES-NI</th>\n    </tr>\n  </thead>\n  <tbody>\n    <tr>\n      <th>count</th>\n      <td>30.000000</td>\n      <td>30.000000</td>\n      <td>30.000000</td>\n    </tr>\n    <tr>\n      <th>mean</th>\n      <td>6.351584</td>\n      <td>8.693848</td>\n      <td>8.546326</td>\n    </tr>\n    <tr>\n      <th>std</th>\n      <td>0.898934</td>\n      <td>1.305782</td>\n      <td>1.111419</td>\n    </tr>\n    <tr>\n      <th>min</th>\n      <td>5.609062</td>\n      <td>6.958099</td>\n      <td>6.786254</td>\n    </tr>\n    <tr>\n      <th>25%</th>\n      <td>5.853889</td>\n      <td>7.794310</td>\n      <td>7.696311</td>\n    </tr>\n    <tr>\n      <th>50%</th>\n      <td>6.083585</td>\n      <td>8.505896</td>\n      <td>8.157460</td>\n    </tr>\n    <tr>\n      <th>75%</th>\n      <td>6.392207</td>\n      <td>9.334080</td>\n      <td>9.362260</td>\n    </tr>\n    <tr>\n      <th>max</th>\n      <td>9.891999</td>\n      <td>12.976063</td>\n      <td>11.435744</td>\n    </tr>\n  </tbody>\n</table>\n</div>"
     },
     "execution_count": 12,
     "metadata": {},
     "output_type": "execute_result"
    }
   ],
   "source": [
    "\n",
    "desc = pd.DataFrame({'CMAES': cmaes_grn5_eval_desc, 'ES-I': esi_grn5_eval_desc, 'ES-NI': esni_grn5_eval_desc})\n",
    "\n",
    "desc"
   ],
   "metadata": {
    "collapsed": false,
    "ExecuteTime": {
     "end_time": "2023-10-02T18:05:53.369572198Z",
     "start_time": "2023-10-02T18:05:53.359909038Z"
    }
   }
  },
  {
   "cell_type": "code",
   "execution_count": 13,
   "outputs": [],
   "source": [
    "cmaes_grn5_evals = cmaes_grn5['eval']\n",
    "esi_grn5_evals = esi_grn5['eval']\n",
    "esni_grn5_evals = esni_grn5['eval']"
   ],
   "metadata": {
    "collapsed": false,
    "ExecuteTime": {
     "end_time": "2023-10-02T18:05:53.369945941Z",
     "start_time": "2023-10-02T18:05:53.360120401Z"
    }
   }
  },
  {
   "cell_type": "code",
   "execution_count": 14,
   "outputs": [
    {
     "data": {
      "text/plain": "<Figure size 640x480 with 1 Axes>",
      "image/png": "[encoded data removed]"
     },
     "metadata": {},
     "output_type": "display_data"
    }
   ],
   "source": [
    "all_evals_grn5 = pd.DataFrame({'CMAES': cmaes_grn5_evals, 'ES-I': esi_grn5_evals, 'ES-NI': esni_grn5_evals})\n",
    "all_evals_grn5.boxplot(column=['CMAES', 'ES-I', 'ES-NI'])\n",
    "plt.show()"
   ],
   "metadata": {
    "collapsed": false,
    "ExecuteTime": {
     "end_time": "2023-10-02T18:05:53.585616661Z",
     "start_time": "2023-10-02T18:05:53.360213025Z"
    }
   }
  },
  {
   "cell_type": "code",
   "execution_count": 15,
   "outputs": [],
   "source": [
    "#print(cmaes_grn5['time'].mean());"
   ],
   "metadata": {
    "collapsed": false,
    "ExecuteTime": {
     "end_time": "2023-10-02T18:05:53.585910317Z",
     "start_time": "2023-10-02T18:05:53.551963699Z"
    }
   }
  },
  {
   "cell_type": "markdown",
   "source": [
    "# GRN com 10 variáveis"
   ],
   "metadata": {
    "collapsed": false
   }
  },
  {
   "cell_type": "code",
   "execution_count": 16,
   "outputs": [],
   "source": [
    "cmaes_grn10 = pd.read_csv('../results/GRN10-CMAES-1050000.csv')\n",
    "esi_grn10 = pd.read_csv('../results/GRN10-ESI-1050000.csv')\n",
    "cmaes_grn10_eval_desc = cmaes_grn10.describe()['eval']\n",
    "esi_grn10_eval_desc = esi_grn10.describe()['eval']\n",
    "\n",
    "\n",
    "cmaes_grn10_evals = cmaes_grn10['eval']\n",
    "esi_grn10_evals = esi_grn10['eval']"
   ],
   "metadata": {
    "collapsed": false,
    "ExecuteTime": {
     "end_time": "2023-10-02T18:05:53.586060902Z",
     "start_time": "2023-10-02T18:05:53.552114712Z"
    }
   }
  },
  {
   "cell_type": "code",
   "execution_count": 17,
   "outputs": [
    {
     "data": {
      "text/plain": "           CMAES       ES-I\ncount  30.000000  30.000000\nmean   13.944475  19.366346\nstd     0.267318   1.970942\nmin    13.515075  16.714033\n25%    13.722589  18.646456\n50%    13.965374  19.356498\n75%    14.126715  19.707939\nmax    14.535801  27.370248",
      "text/html": "<div>\n<style scoped>\n    .dataframe tbody tr th:only-of-type {\n        vertical-align: middle;\n    }\n\n    .dataframe tbody tr th {\n        vertical-align: top;\n    }\n\n    .dataframe thead th {\n        text-align: right;\n    }\n</style>\n<table border=\"1\" class=\"dataframe\">\n  <thead>\n    <tr style=\"text-align: right;\">\n      <th></th>\n      <th>CMAES</th>\n      <th>ES-I</th>\n    </tr>\n  </thead>\n  <tbody>\n    <tr>\n      <th>count</th>\n      <td>30.000000</td>\n      <td>30.000000</td>\n    </tr>\n    <tr>\n      <th>mean</th>\n      <td>13.944475</td>\n      <td>19.366346</td>\n    </tr>\n    <tr>\n      <th>std</th>\n      <td>0.267318</td>\n      <td>1.970942</td>\n    </tr>\n    <tr>\n      <th>min</th>\n      <td>13.515075</td>\n      <td>16.714033</td>\n    </tr>\n    <tr>\n      <th>25%</th>\n      <td>13.722589</td>\n      <td>18.646456</td>\n    </tr>\n    <tr>\n      <th>50%</th>\n      <td>13.965374</td>\n      <td>19.356498</td>\n    </tr>\n    <tr>\n      <th>75%</th>\n      <td>14.126715</td>\n      <td>19.707939</td>\n    </tr>\n    <tr>\n      <th>max</th>\n      <td>14.535801</td>\n      <td>27.370248</td>\n    </tr>\n  </tbody>\n</table>\n</div>"
     },
     "execution_count": 17,
     "metadata": {},
     "output_type": "execute_result"
    }
   ],
   "source": [
    "desc = pd.DataFrame({'CMAES': cmaes_grn10_eval_desc, 'ES-I': esi_grn10_eval_desc})\n",
    "desc"
   ],
   "metadata": {
    "collapsed": false,
    "ExecuteTime": {
     "end_time": "2023-10-02T18:05:53.586559456Z",
     "start_time": "2023-10-02T18:05:53.552214471Z"
    }
   }
  },
  {
   "cell_type": "markdown",
   "source": [],
   "metadata": {
    "collapsed": false
   }
  },
  {
   "cell_type": "code",
   "execution_count": 18,
   "outputs": [
    {
     "data": {
      "text/plain": "<Figure size 640x480 with 1 Axes>",
      "image/png": "[encoded data removed]"
     },
     "metadata": {},
     "output_type": "display_data"
    }
   ],
   "source": [
    "all_evals_grn10 = pd.DataFrame({'CMAES': cmaes_grn10_evals, 'ES-I': esi_grn10_evals})\n",
    "all_evals_grn10.boxplot(column=['CMAES', 'ES-I'])\n",
    "plt.show()"
   ],
   "metadata": {
    "collapsed": false,
    "ExecuteTime": {
     "end_time": "2023-10-02T18:05:53.703788728Z",
     "start_time": "2023-10-02T18:05:53.554728282Z"
    }
   }
  },
  {
   "cell_type": "code",
   "execution_count": 18,
   "outputs": [],
   "source": [],
   "metadata": {
    "collapsed": false,
    "ExecuteTime": {
     "end_time": "2023-10-02T18:05:53.757990989Z",
     "start_time": "2023-10-02T18:05:53.697875704Z"
    }
   }
  }
 ],
 "metadata": {
  "celltoolbar": "Tags",
  "kernelspec": {
   "display_name": "Python 3 (ipykernel)",
   "language": "python",
   "name": "python3"
  },
  "language_info": {
   "codemirror_mode": {
    "name": "ipython",
    "version": 3
   },
   "file_extension": ".py",
   "mimetype": "text/x-python",
   "name": "python",
   "nbconvert_exporter": "python",
   "pygments_lexer": "ipython3",
   "version": "3.10.0"
  }
 },
 "nbformat": 4,
 "nbformat_minor": 1
}
