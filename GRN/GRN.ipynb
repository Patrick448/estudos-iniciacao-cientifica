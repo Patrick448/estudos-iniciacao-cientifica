{
 "cells": [
  {
   "cell_type": "code",
   "execution_count": 3,
   "metadata": {
    "collapsed": true,
    "pycharm": {
     "name": "#%%\n"
    }
   },
   "outputs": [],
   "source": [
    "from ES import populational_isotropic_ES, populational_non_isotropic_ES, ESAlgorithm\n",
    "import matplotlib.pyplot as plt\n",
    "import numpy as np\n",
    "from py_expression_eval import Parser\n",
    "from GRN_aux_10 import evaluation\n",
    "from GRN_aux_5 import evaluation_5\n",
    "parser = Parser()"
   ]
  },
  {
   "cell_type": "markdown",
   "source": [
    "## EDO com 10 variáveis"
   ],
   "metadata": {
    "collapsed": false,
    "pycharm": {
     "name": "#%% md\n"
    }
   }
  },
  {
   "cell_type": "code",
   "execution_count": 2,
   "outputs": [],
   "source": [
    "\n",
    "IND_SIZE = 40#Tamanho do indivíduo (quantidade de coeficientes)\n",
    "MIN_K = 0.1#Menor valor que K pode assumir\n",
    "MAX_K = 1#Maior valor que K pode assumir\n",
    "MIN_N = 1#Menor valor que N pode assumir\n",
    "MAX_N = 25#Maior valor que N pode assumir\n",
    "MIN_TAU = 0.1#Menor valor que TAU pode assumir\n",
    "MAX_TAU = 5#Maior valor que TAU pode assumir\n",
    "MIN_STRATEGY = 0.1 #Menor valor que a estratégia pode assumir\n",
    "MAX_STRATEGY = 10#Maior valor que a estratégia pode assumir\n",
    "TAU_SIZE = 10\n",
    "N_SIZE = 15\n",
    "K_SIZE = 15\n",
    "\n",
    "def f1(seed=0):\n",
    "    experiment = {}\n",
    "    error_history = {'1p1':None, 'pi':None, 'pni':None}\n",
    "\n",
    "    alg = ESAlgorithm()\n",
    "    alg.set_evaluation_function(evaluation)\n",
    "    alg.set_num_dimensions(IND_SIZE)\n",
    "    #alg.set_global_variable_bounds(100, True, -100, True)\n",
    "\n",
    "    cont = 0\n",
    "    for j in range(0, TAU_SIZE, 1):\n",
    "        alg.set_variable_bounds_test(j,MAX_TAU, True, MIN_TAU, True)\n",
    "        cont = j\n",
    "\n",
    "    for j in range(cont+1, cont+1+K_SIZE, 1):\n",
    "        alg.set_variable_bounds_test(j,MAX_K, True, MIN_K, True)\n",
    "        cont = j\n",
    "\n",
    "    for j in range(cont+1, cont+1+N_SIZE, 1):\n",
    "        alg.set_variable_bounds_test(j,MAX_N, True, MIN_N, True)\n",
    "        cont = j\n",
    "\n",
    "    #alg.set_error_stop_criterion(0.0001)\n",
    "\n",
    "    res_1 = alg.one_plus_one_ES_test(sigma=0.5, c=0.817, n=10, iter=100, seed=seed)\n",
    "    error_history['1p1'] = alg.get_execution_history()\n",
    "\n",
    "    res_2 = alg.populational_isotropic_ES_test(sigma_var=0.5, dimension_gen_interval=(-10, 10), iter=100, seed=seed, num_parents=10, num_offspring=20)\n",
    "    error_history['pi'] = alg.get_execution_history()\n",
    "\n",
    "    res_3 = alg.populational_non_isotropic_ES_test(sigma_var=0.5, dimension_gen_interval=(-10, 10), iter=100, seed=seed, num_parents=10, num_offspring=20)\n",
    "    error_history['pni'] = alg.get_execution_history()\n",
    "\n",
    "    experiment['1p1'] =  res_1[-2:-1][0]['eval']\n",
    "    experiment['pi'] =  res_2[0]['eval']\n",
    "    experiment['pni'] =  res_3[0]['eval']\n",
    "\n",
    "    return experiment, error_history\n"
   ],
   "metadata": {
    "collapsed": false,
    "pycharm": {
     "name": "#%%\n"
    }
   }
  },
  {
   "cell_type": "code",
   "execution_count": 3,
   "outputs": [],
   "source": [
    "\n",
    "experiments = []\n",
    "num_exp = 1\n",
    "for i in range(num_exp):\n",
    "    experiments.append(f1(i))\n"
   ],
   "metadata": {
    "collapsed": false,
    "pycharm": {
     "name": "#%%\n"
    }
   }
  },
  {
   "cell_type": "code",
   "execution_count": 4,
   "outputs": [
    {
     "name": "stdout",
     "output_type": "stream",
     "text": [
      "[({'1p1': 138.8886152622927, 'pi': 99.90409255661292, 'pni': 187.12219614000966}, {'1p1': {'checkpoints': [2, 3, 4, 5, 6, 7, 8, 9, 10, 11, 12, 13, 14, 23, 48, 100, 101], 'values': [0, 0, 0, 0, 0, 0, 0, 0, 0, 0, 0, 0, 0, 0, 0, 0, 0]}, 'pi': {'checkpoints': [30, 50, 70, 90, 110, 130, 150, 170, 190, 210, 230, 250, 270, 470, 970, 2010, 2010], 'values': [0, 0, 0, 0, 0, 0, 0, 0, 0, 0, 0, 0, 0, 0, 0, 0, 0]}, 'pni': {'checkpoints': [30, 50, 70, 90, 110, 130, 150, 170, 190, 210, 230, 250, 270, 470, 970, 2010, 2010], 'values': [0, 0, 0, 0, 0, 0, 0, 0, 0, 0, 0, 0, 0, 0, 0, 0, 0]}})]\n"
     ]
    }
   ],
   "source": [
    "print(experiments)"
   ],
   "metadata": {
    "collapsed": false,
    "pycharm": {
     "name": "#%%\n"
    }
   }
  },
  {
   "cell_type": "code",
   "execution_count": 5,
   "outputs": [
    {
     "ename": "TypeError",
     "evalue": "tuple indices must be integers or slices, not str",
     "output_type": "error",
     "traceback": [
      "\u001B[1;31m---------------------------------------------------------------------------\u001B[0m",
      "\u001B[1;31mTypeError\u001B[0m                                 Traceback (most recent call last)",
      "Cell \u001B[1;32mIn [5], line 1\u001B[0m\n\u001B[1;32m----> 1\u001B[0m res_1p1 \u001B[38;5;241m=\u001B[39m [e[\u001B[38;5;124m'\u001B[39m\u001B[38;5;124m1p1\u001B[39m\u001B[38;5;124m'\u001B[39m] \u001B[38;5;28;01mfor\u001B[39;00m e \u001B[38;5;129;01min\u001B[39;00m experiments]\n\u001B[0;32m      2\u001B[0m res_pi \u001B[38;5;241m=\u001B[39m [e[\u001B[38;5;124m'\u001B[39m\u001B[38;5;124mpi\u001B[39m\u001B[38;5;124m'\u001B[39m] \u001B[38;5;28;01mfor\u001B[39;00m e \u001B[38;5;129;01min\u001B[39;00m experiments]\n\u001B[0;32m      3\u001B[0m res_pni \u001B[38;5;241m=\u001B[39m [e[\u001B[38;5;124m'\u001B[39m\u001B[38;5;124mpni\u001B[39m\u001B[38;5;124m'\u001B[39m] \u001B[38;5;28;01mfor\u001B[39;00m e \u001B[38;5;129;01min\u001B[39;00m experiments]\n",
      "Cell \u001B[1;32mIn [5], line 1\u001B[0m, in \u001B[0;36m<listcomp>\u001B[1;34m(.0)\u001B[0m\n\u001B[1;32m----> 1\u001B[0m res_1p1 \u001B[38;5;241m=\u001B[39m [\u001B[43me\u001B[49m\u001B[43m[\u001B[49m\u001B[38;5;124;43m'\u001B[39;49m\u001B[38;5;124;43m1p1\u001B[39;49m\u001B[38;5;124;43m'\u001B[39;49m\u001B[43m]\u001B[49m \u001B[38;5;28;01mfor\u001B[39;00m e \u001B[38;5;129;01min\u001B[39;00m experiments]\n\u001B[0;32m      2\u001B[0m res_pi \u001B[38;5;241m=\u001B[39m [e[\u001B[38;5;124m'\u001B[39m\u001B[38;5;124mpi\u001B[39m\u001B[38;5;124m'\u001B[39m] \u001B[38;5;28;01mfor\u001B[39;00m e \u001B[38;5;129;01min\u001B[39;00m experiments]\n\u001B[0;32m      3\u001B[0m res_pni \u001B[38;5;241m=\u001B[39m [e[\u001B[38;5;124m'\u001B[39m\u001B[38;5;124mpni\u001B[39m\u001B[38;5;124m'\u001B[39m] \u001B[38;5;28;01mfor\u001B[39;00m e \u001B[38;5;129;01min\u001B[39;00m experiments]\n",
      "\u001B[1;31mTypeError\u001B[0m: tuple indices must be integers or slices, not str"
     ]
    }
   ],
   "source": [
    "\n",
    "res_1p1 = [e['1p1'] for e in experiments]\n",
    "res_pi = [e['pi'] for e in experiments]\n",
    "res_pni = [e['pni'] for e in experiments]\n",
    "\n",
    "tabela = [None, None, None]\n",
    "\n",
    "\n",
    "def table_row(array):\n",
    "    row = [f\"{np.average(array):.2f}\", f\"{np.min(array):.2f}\", f\"{np.max(array):.2f}\", f\"{np.median(array):.2f}\",f\"{np.std(array):.2f}\"]\n",
    "    return row\n",
    "\n",
    "\n",
    "tabela[0] = table_row(res_1p1)\n",
    "tabela[1] = table_row(res_pi)\n",
    "tabela[2] = table_row(res_pni)\n",
    "\n",
    "fig, ax = plt.subplots()\n",
    "# hide axes\n",
    "fig.patch.set_visible(False)\n",
    "\n",
    "ax.axis('off')\n",
    "ax.axis('tight')\n",
    "colLabels = ['Media', 'Melhor', 'Pior', 'Mediana', 'Desvio Padrão']\n",
    "rowLabels = [\"(1+1)-ES\", \"Pop. Iso.\", \"Pop. N. Iso.\"]\n",
    "table = ax.table(tabela, colLabels=colLabels, rowLabels=rowLabels, loc='center')\n",
    "table.scale(3, 2)\n",
    "table.set_fontsize(15)\n",
    "fig.tight_layout()\n",
    "\n",
    "fig_boxplot, ax_boxplot = plt.subplots()\n",
    "ax_boxplot.boxplot(x=[res_1p1, res_pi, res_pni], labels=[\"(1+1)-ES\", \"Pop. Iso.\", \"Pop. N. Iso.\"])\n",
    "\n",
    "plt.show()"
   ],
   "metadata": {
    "collapsed": false,
    "pycharm": {
     "name": "#%%\n"
    }
   }
  },
  {
   "cell_type": "markdown",
   "source": [
    "## EDO com 5 variáveis"
   ],
   "metadata": {
    "collapsed": false,
    "pycharm": {
     "name": "#%% md\n"
    }
   }
  },
  {
   "cell_type": "code",
   "execution_count": 5,
   "outputs": [
    {
     "name": "stdout",
     "output_type": "stream",
     "text": [
      "{'dim': [1.2755354400863979, 0.5561121032694761, 4.375085124462351, 0.3036719773576122, 3.1640745337128897, 0.8671411811389862, 0.6773705871095718, 0.4116937664533616, 0.6378346397518562, 0.3763039299036334, 17.14882204246834, 6.184067745064907, 8.448598661939672, 1.023114429034906, 6.862520898575638], 'sigma': 1.865102654515566e-10, 'eval': 43.63636926649623}\n"
     ]
    },
    {
     "ename": "KeyboardInterrupt",
     "evalue": "",
     "output_type": "error",
     "traceback": [
      "\u001B[1;31m---------------------------------------------------------------------------\u001B[0m",
      "\u001B[1;31mKeyboardInterrupt\u001B[0m                         Traceback (most recent call last)",
      "Cell \u001B[1;32mIn [5], line 61\u001B[0m\n\u001B[0;32m     59\u001B[0m num_exp \u001B[38;5;241m=\u001B[39m \u001B[38;5;241m1\u001B[39m\n\u001B[0;32m     60\u001B[0m \u001B[38;5;28;01mfor\u001B[39;00m i \u001B[38;5;129;01min\u001B[39;00m \u001B[38;5;28mrange\u001B[39m(num_exp):\n\u001B[1;32m---> 61\u001B[0m     experiments\u001B[38;5;241m.\u001B[39mappend(\u001B[43mf1\u001B[49m\u001B[43m(\u001B[49m\u001B[43mi\u001B[49m\u001B[43m)\u001B[49m)\n",
      "Cell \u001B[1;32mIn [5], line 46\u001B[0m, in \u001B[0;36mf1\u001B[1;34m(seed)\u001B[0m\n\u001B[0;32m     43\u001B[0m error_history[\u001B[38;5;124m'\u001B[39m\u001B[38;5;124mpi\u001B[39m\u001B[38;5;124m'\u001B[39m] \u001B[38;5;241m=\u001B[39m alg\u001B[38;5;241m.\u001B[39mget_execution_history()\n\u001B[0;32m     44\u001B[0m \u001B[38;5;28mprint\u001B[39m(res_2[\u001B[38;5;241m0\u001B[39m])\n\u001B[1;32m---> 46\u001B[0m res_3 \u001B[38;5;241m=\u001B[39m \u001B[43malg\u001B[49m\u001B[38;5;241;43m.\u001B[39;49m\u001B[43mpopulational_non_isotropic_ES_test\u001B[49m\u001B[43m(\u001B[49m\u001B[43msigma_var\u001B[49m\u001B[38;5;241;43m=\u001B[39;49m\u001B[38;5;241;43m0.5\u001B[39;49m\u001B[43m,\u001B[49m\u001B[43m \u001B[49m\u001B[43mdimension_gen_interval\u001B[49m\u001B[38;5;241;43m=\u001B[39;49m\u001B[43m(\u001B[49m\u001B[38;5;241;43m-\u001B[39;49m\u001B[38;5;241;43m10\u001B[39;49m\u001B[43m,\u001B[49m\u001B[43m \u001B[49m\u001B[38;5;241;43m10\u001B[39;49m\u001B[43m)\u001B[49m\u001B[43m,\u001B[49m\u001B[43m \u001B[49m\u001B[38;5;28;43miter\u001B[39;49m\u001B[38;5;241;43m=\u001B[39;49m\u001B[38;5;241;43m2000\u001B[39;49m\u001B[43m,\u001B[49m\u001B[43m \u001B[49m\u001B[43mseed\u001B[49m\u001B[38;5;241;43m=\u001B[39;49m\u001B[43mseed\u001B[49m\u001B[43m,\u001B[49m\n\u001B[0;32m     47\u001B[0m \u001B[43m                                               \u001B[49m\u001B[43mnum_parents\u001B[49m\u001B[38;5;241;43m=\u001B[39;49m\u001B[38;5;241;43m10\u001B[39;49m\u001B[43m,\u001B[49m\u001B[43m \u001B[49m\u001B[43mnum_offspring\u001B[49m\u001B[38;5;241;43m=\u001B[39;49m\u001B[38;5;241;43m20\u001B[39;49m\u001B[43m)\u001B[49m\n\u001B[0;32m     48\u001B[0m \u001B[38;5;28mprint\u001B[39m(res_3[\u001B[38;5;241m0\u001B[39m])\n\u001B[0;32m     49\u001B[0m error_history[\u001B[38;5;124m'\u001B[39m\u001B[38;5;124mpni\u001B[39m\u001B[38;5;124m'\u001B[39m] \u001B[38;5;241m=\u001B[39m alg\u001B[38;5;241m.\u001B[39mget_execution_history()\n",
      "File \u001B[1;32m~\\OneDrive\\Desktop\\Projects\\estudos-iniciacao-cientifica\\ES.py:712\u001B[0m, in \u001B[0;36mESAlgorithm.populational_non_isotropic_ES_test\u001B[1;34m(self, dimension_gen_interval, sigma_var, iter, seed, num_parents, num_offspring, sigma_interval)\u001B[0m\n\u001B[0;32m    709\u001B[0m             mutated_ind[\u001B[38;5;124m'\u001B[39m\u001B[38;5;124mdim\u001B[39m\u001B[38;5;124m'\u001B[39m][i] \u001B[38;5;241m=\u001B[39m parent[\u001B[38;5;124m'\u001B[39m\u001B[38;5;124mdim\u001B[39m\u001B[38;5;124m'\u001B[39m][i] \u001B[38;5;241m+\u001B[39m np\u001B[38;5;241m.\u001B[39mrandom\u001B[38;5;241m.\u001B[39mnormal(\u001B[38;5;241m0\u001B[39m, mutated_ind[\u001B[38;5;124m'\u001B[39m\u001B[38;5;124msigma\u001B[39m\u001B[38;5;124m'\u001B[39m][i])\n\u001B[0;32m    711\u001B[0m         mutated_ind \u001B[38;5;241m=\u001B[39m \u001B[38;5;28mself\u001B[39m\u001B[38;5;241m.\u001B[39mvalidate_test(mutated_ind)\n\u001B[1;32m--> 712\u001B[0m         mutated_ind[\u001B[38;5;124m'\u001B[39m\u001B[38;5;124meval\u001B[39m\u001B[38;5;124m'\u001B[39m] \u001B[38;5;241m=\u001B[39m \u001B[38;5;28;43mself\u001B[39;49m\u001B[38;5;241;43m.\u001B[39;49m\u001B[43mevaluate_test\u001B[49m\u001B[43m(\u001B[49m\u001B[43mmutated_ind\u001B[49m\u001B[43m)\u001B[49m  \u001B[38;5;66;03m# faz avaliação\u001B[39;00m\n\u001B[0;32m    713\u001B[0m         offspring\u001B[38;5;241m.\u001B[39mappend(mutated_ind)\n\u001B[0;32m    715\u001B[0m offspring_and_parents \u001B[38;5;241m=\u001B[39m population \u001B[38;5;241m+\u001B[39m offspring\n",
      "File \u001B[1;32m~\\OneDrive\\Desktop\\Projects\\estudos-iniciacao-cientifica\\ES.py:367\u001B[0m, in \u001B[0;36mESAlgorithm.evaluate_test\u001B[1;34m(self, ind)\u001B[0m\n\u001B[0;32m    365\u001B[0m     \u001B[38;5;28;01mreturn\u001B[39;00m \u001B[38;5;28mself\u001B[39m\u001B[38;5;241m.\u001B[39mparser_expression_evaluator(dim_dict)\n\u001B[0;32m    366\u001B[0m \u001B[38;5;28;01melif\u001B[39;00m \u001B[38;5;28mself\u001B[39m\u001B[38;5;241m.\u001B[39mevaluation_function \u001B[38;5;129;01mis\u001B[39;00m \u001B[38;5;129;01mnot\u001B[39;00m \u001B[38;5;28;01mNone\u001B[39;00m:\n\u001B[1;32m--> 367\u001B[0m     \u001B[38;5;28;01mreturn\u001B[39;00m \u001B[38;5;28;43mself\u001B[39;49m\u001B[38;5;241;43m.\u001B[39;49m\u001B[43mevaluation_function\u001B[49m\u001B[43m(\u001B[49m\u001B[43mind\u001B[49m\u001B[43m[\u001B[49m\u001B[38;5;124;43m'\u001B[39;49m\u001B[38;5;124;43mdim\u001B[39;49m\u001B[38;5;124;43m'\u001B[39;49m\u001B[43m]\u001B[49m\u001B[43m)\u001B[49m\n",
      "File \u001B[1;32m~\\OneDrive\\Desktop\\Projects\\estudos-iniciacao-cientifica\\GRN_aux_5.py:148\u001B[0m, in \u001B[0;36mevaluation_5\u001B[1;34m(ind_atual)\u001B[0m\n\u001B[0;32m    144\u001B[0m nD \u001B[38;5;241m=\u001B[39m ind_atual[\u001B[38;5;241m13\u001B[39m]\n\u001B[0;32m    145\u001B[0m nE \u001B[38;5;241m=\u001B[39m ind_atual[\u001B[38;5;241m14\u001B[39m]\n\u001B[1;32m--> 148\u001B[0m solution \u001B[38;5;241m=\u001B[39m \u001B[43modeint\u001B[49m\u001B[43m(\u001B[49m\u001B[43mtwoBody\u001B[49m\u001B[43m,\u001B[49m\u001B[43m \u001B[49m\u001B[43mY0\u001B[49m\u001B[43m,\u001B[49m\u001B[43m \u001B[49m\u001B[43mdobra_pontos\u001B[49m\u001B[43m,\u001B[49m\u001B[43m \u001B[49m\u001B[43margs\u001B[49m\u001B[38;5;241;43m=\u001B[39;49m\u001B[43m(\u001B[49m\n\u001B[0;32m    149\u001B[0m \u001B[43m    \u001B[49m\u001B[43mtauA\u001B[49m\u001B[43m,\u001B[49m\u001B[43m \u001B[49m\u001B[43mkA\u001B[49m\u001B[43m,\u001B[49m\u001B[43m \u001B[49m\u001B[38;5;28;43mint\u001B[39;49m\u001B[43m(\u001B[49m\u001B[43mnA\u001B[49m\u001B[43m)\u001B[49m\u001B[43m,\u001B[49m\u001B[43m \u001B[49m\u001B[43mtauB\u001B[49m\u001B[43m,\u001B[49m\u001B[43m \u001B[49m\u001B[43mkB\u001B[49m\u001B[43m,\u001B[49m\u001B[43m \u001B[49m\u001B[38;5;28;43mint\u001B[39;49m\u001B[43m(\u001B[49m\u001B[43mnB\u001B[49m\u001B[43m)\u001B[49m\u001B[43m,\u001B[49m\u001B[43m \u001B[49m\u001B[43mtauC\u001B[49m\u001B[43m,\u001B[49m\u001B[43m \u001B[49m\u001B[43mkC\u001B[49m\u001B[43m,\u001B[49m\u001B[43m \u001B[49m\u001B[38;5;28;43mint\u001B[39;49m\u001B[43m(\u001B[49m\u001B[43mnC\u001B[49m\u001B[43m)\u001B[49m\u001B[43m,\u001B[49m\u001B[43m \u001B[49m\u001B[43mtauD\u001B[49m\u001B[43m,\u001B[49m\u001B[43m \u001B[49m\u001B[43mkD\u001B[49m\u001B[43m,\u001B[49m\u001B[43m \u001B[49m\u001B[38;5;28;43mint\u001B[39;49m\u001B[43m(\u001B[49m\u001B[43mnD\u001B[49m\u001B[43m)\u001B[49m\u001B[43m,\u001B[49m\u001B[43m \u001B[49m\u001B[43mtauE\u001B[49m\u001B[43m,\u001B[49m\u001B[43m \u001B[49m\u001B[43mkE\u001B[49m\u001B[43m,\u001B[49m\u001B[43m \u001B[49m\u001B[38;5;28;43mint\u001B[39;49m\u001B[43m(\u001B[49m\u001B[43mnE\u001B[49m\u001B[43m)\u001B[49m\u001B[43m,\u001B[49m\u001B[43m)\u001B[49m\u001B[43m)\u001B[49m\n\u001B[0;32m    150\u001B[0m pA, pB, pC, pD, pE \u001B[38;5;241m=\u001B[39m organiza_pontos(solution)\n\u001B[0;32m    151\u001B[0m \u001B[38;5;28;01mreturn\u001B[39;00m calcula_diferenca(pA, pB, pC, pD, pE)\n",
      "File \u001B[1;32m~\\OneDrive\\Desktop\\Projects\\estudos-iniciacao-cientifica\\env\\lib\\site-packages\\scipy\\integrate\\_odepack_py.py:242\u001B[0m, in \u001B[0;36modeint\u001B[1;34m(func, y0, t, args, Dfun, col_deriv, full_output, ml, mu, rtol, atol, tcrit, h0, hmax, hmin, ixpr, mxstep, mxhnil, mxordn, mxords, printmessg, tfirst)\u001B[0m\n\u001B[0;32m    240\u001B[0m t \u001B[38;5;241m=\u001B[39m copy(t)\n\u001B[0;32m    241\u001B[0m y0 \u001B[38;5;241m=\u001B[39m copy(y0)\n\u001B[1;32m--> 242\u001B[0m output \u001B[38;5;241m=\u001B[39m \u001B[43m_odepack\u001B[49m\u001B[38;5;241;43m.\u001B[39;49m\u001B[43modeint\u001B[49m\u001B[43m(\u001B[49m\u001B[43mfunc\u001B[49m\u001B[43m,\u001B[49m\u001B[43m \u001B[49m\u001B[43my0\u001B[49m\u001B[43m,\u001B[49m\u001B[43m \u001B[49m\u001B[43mt\u001B[49m\u001B[43m,\u001B[49m\u001B[43m \u001B[49m\u001B[43margs\u001B[49m\u001B[43m,\u001B[49m\u001B[43m \u001B[49m\u001B[43mDfun\u001B[49m\u001B[43m,\u001B[49m\u001B[43m \u001B[49m\u001B[43mcol_deriv\u001B[49m\u001B[43m,\u001B[49m\u001B[43m \u001B[49m\u001B[43mml\u001B[49m\u001B[43m,\u001B[49m\u001B[43m \u001B[49m\u001B[43mmu\u001B[49m\u001B[43m,\u001B[49m\n\u001B[0;32m    243\u001B[0m \u001B[43m                         \u001B[49m\u001B[43mfull_output\u001B[49m\u001B[43m,\u001B[49m\u001B[43m \u001B[49m\u001B[43mrtol\u001B[49m\u001B[43m,\u001B[49m\u001B[43m \u001B[49m\u001B[43matol\u001B[49m\u001B[43m,\u001B[49m\u001B[43m \u001B[49m\u001B[43mtcrit\u001B[49m\u001B[43m,\u001B[49m\u001B[43m \u001B[49m\u001B[43mh0\u001B[49m\u001B[43m,\u001B[49m\u001B[43m \u001B[49m\u001B[43mhmax\u001B[49m\u001B[43m,\u001B[49m\u001B[43m \u001B[49m\u001B[43mhmin\u001B[49m\u001B[43m,\u001B[49m\n\u001B[0;32m    244\u001B[0m \u001B[43m                         \u001B[49m\u001B[43mixpr\u001B[49m\u001B[43m,\u001B[49m\u001B[43m \u001B[49m\u001B[43mmxstep\u001B[49m\u001B[43m,\u001B[49m\u001B[43m \u001B[49m\u001B[43mmxhnil\u001B[49m\u001B[43m,\u001B[49m\u001B[43m \u001B[49m\u001B[43mmxordn\u001B[49m\u001B[43m,\u001B[49m\u001B[43m \u001B[49m\u001B[43mmxords\u001B[49m\u001B[43m,\u001B[49m\n\u001B[0;32m    245\u001B[0m \u001B[43m                         \u001B[49m\u001B[38;5;28;43mint\u001B[39;49m\u001B[43m(\u001B[49m\u001B[38;5;28;43mbool\u001B[39;49m\u001B[43m(\u001B[49m\u001B[43mtfirst\u001B[49m\u001B[43m)\u001B[49m\u001B[43m)\u001B[49m\u001B[43m)\u001B[49m\n\u001B[0;32m    246\u001B[0m \u001B[38;5;28;01mif\u001B[39;00m output[\u001B[38;5;241m-\u001B[39m\u001B[38;5;241m1\u001B[39m] \u001B[38;5;241m<\u001B[39m \u001B[38;5;241m0\u001B[39m:\n\u001B[0;32m    247\u001B[0m     warning_msg \u001B[38;5;241m=\u001B[39m _msgs[output[\u001B[38;5;241m-\u001B[39m\u001B[38;5;241m1\u001B[39m]] \u001B[38;5;241m+\u001B[39m \u001B[38;5;124m\"\u001B[39m\u001B[38;5;124m Run with full_output = 1 to get quantitative information.\u001B[39m\u001B[38;5;124m\"\u001B[39m\n",
      "File \u001B[1;32m~\\OneDrive\\Desktop\\Projects\\estudos-iniciacao-cientifica\\GRN_aux_5.py:78\u001B[0m, in \u001B[0;36mtwoBody\u001B[1;34m(y, t, tauA, kA, nA, tauB, kB, nB, tauC, kC, nC, tauD, kD, nD, tauE, kE, nE)\u001B[0m\n\u001B[0;32m     74\u001B[0m ydot[\u001B[38;5;241m2\u001B[39m] \u001B[38;5;241m=\u001B[39m (((\u001B[38;5;28mpow\u001B[39m((y[\u001B[38;5;241m1\u001B[39m] \u001B[38;5;241m/\u001B[39m maximo_B), nC)) \u001B[38;5;241m/\u001B[39m (\u001B[38;5;28mpow\u001B[39m((y[\u001B[38;5;241m1\u001B[39m] \u001B[38;5;241m/\u001B[39m maximo_B), nC) \u001B[38;5;241m+\u001B[39m \u001B[38;5;28mpow\u001B[39m(kC, nC))) \u001B[38;5;241m-\u001B[39m (y[\u001B[38;5;241m2\u001B[39m] \u001B[38;5;241m/\u001B[39m maximo_C)) \u001B[38;5;241m/\u001B[39m tauC\n\u001B[0;32m     76\u001B[0m ydot[\u001B[38;5;241m3\u001B[39m] \u001B[38;5;241m=\u001B[39m (((\u001B[38;5;28mpow\u001B[39m((y[\u001B[38;5;241m2\u001B[39m] \u001B[38;5;241m/\u001B[39m maximo_C), nD)) \u001B[38;5;241m/\u001B[39m (\u001B[38;5;28mpow\u001B[39m((y[\u001B[38;5;241m2\u001B[39m] \u001B[38;5;241m/\u001B[39m maximo_C), nD) \u001B[38;5;241m+\u001B[39m \u001B[38;5;28mpow\u001B[39m(kD, nD))) \u001B[38;5;241m-\u001B[39m (y[\u001B[38;5;241m3\u001B[39m] \u001B[38;5;241m/\u001B[39m maximo_D)) \u001B[38;5;241m/\u001B[39m tauD\n\u001B[1;32m---> 78\u001B[0m ydot[\u001B[38;5;241m4\u001B[39m] \u001B[38;5;241m=\u001B[39m (((\u001B[38;5;28mpow\u001B[39m((y[\u001B[38;5;241m3\u001B[39m] \u001B[38;5;241m/\u001B[39m maximo_D), nE)) \u001B[38;5;241m/\u001B[39m (\u001B[38;5;28;43mpow\u001B[39;49m\u001B[43m(\u001B[49m\u001B[43m(\u001B[49m\u001B[43my\u001B[49m\u001B[43m[\u001B[49m\u001B[38;5;241;43m3\u001B[39;49m\u001B[43m]\u001B[49m\u001B[43m \u001B[49m\u001B[38;5;241;43m/\u001B[39;49m\u001B[43m \u001B[49m\u001B[43mmaximo_D\u001B[49m\u001B[43m)\u001B[49m\u001B[43m,\u001B[49m\u001B[43m \u001B[49m\u001B[43mnE\u001B[49m\u001B[43m)\u001B[49m \u001B[38;5;241m+\u001B[39m \u001B[38;5;28mpow\u001B[39m(kE, nE))) \u001B[38;5;241m-\u001B[39m (y[\u001B[38;5;241m4\u001B[39m] \u001B[38;5;241m/\u001B[39m maximo_E)) \u001B[38;5;241m/\u001B[39m tauE\n\u001B[0;32m     80\u001B[0m \u001B[38;5;28;01mreturn\u001B[39;00m ydot\n",
      "\u001B[1;31mKeyboardInterrupt\u001B[0m: "
     ]
    }
   ],
   "source": [
    "IND_SIZE    = 15  # Tamanho do indivíduo (quantidade de coeficientes)\n",
    "MIN_K       = 0.1  # Menor valor que K pode assumir\n",
    "MAX_K       = 1  # Maior valor que K pode assumir\n",
    "MIN_N       = 1  # Menor valor que N pode assumir\n",
    "MAX_N       = 25  # Maior valor que N pode assumir\n",
    "MIN_TAU     = 0.1  # Menor valor que TAU pode assumir\n",
    "MAX_TAU     = 5  # Maior valor que TAU pode assumir\n",
    "MIN_STRATEGY = 0.1  # Menor valor que a estratégia pode assumir\n",
    "MAX_STRATEGY = 10  # Maior valor que a estratégia pode assumir\n",
    "TAU_SIZE    = 5\n",
    "N_SIZE      = 5\n",
    "K_SIZE      = 5\n",
    "\n",
    "def f1(seed=0):\n",
    "    experiment = {}\n",
    "    error_history = {'1p1': None, 'pi': None, 'pni': None}\n",
    "\n",
    "    alg = ESAlgorithm()\n",
    "    alg.set_evaluation_function(evaluation_5)\n",
    "    alg.set_num_dimensions(IND_SIZE)\n",
    "    #alg.set_global_variable_bounds(100, True, -100, True)\n",
    "\n",
    "    cont = 0\n",
    "    for j in range(0, TAU_SIZE, 1):\n",
    "        alg.set_variable_bounds_test(j, MAX_TAU, True, MIN_TAU, True)\n",
    "        cont = j\n",
    "\n",
    "    for j in range(cont + 1, cont + 1 + K_SIZE, 1):\n",
    "        alg.set_variable_bounds_test(j, MAX_K, True, MIN_K, True)\n",
    "        cont = j\n",
    "\n",
    "    for j in range(cont + 1, cont + 1 + N_SIZE, 1):\n",
    "        alg.set_variable_bounds_test(j, MAX_N, True, MIN_N, True)\n",
    "        cont = j\n",
    "\n",
    "    #alg.set_error_stop_criterion(0.0001)\n",
    "\n",
    "    res_1 = alg.one_plus_one_ES_test(sigma=0.5, c=0.817, n=10, iter=1, seed=seed)\n",
    "    error_history['1p1'] = alg.get_execution_history()\n",
    "\n",
    "    res_2 = alg.populational_isotropic_ES_test(sigma_var=0.5, dimension_gen_interval=(-10, 10), iter=1000, seed=seed,\n",
    "                                               num_parents=10, num_offspring=20)\n",
    "    error_history['pi'] = alg.get_execution_history()\n",
    "    #print(res_2[0])\n",
    "\n",
    "    res_3 = alg.populational_non_isotropic_ES_test(sigma_var=0.5, dimension_gen_interval=(-10, 10), iter=2000, seed=seed,\n",
    "                                                   num_parents=10, num_offspring=20)\n",
    "    #print(res_3[0])\n",
    "    error_history['pni'] = alg.get_execution_history()\n",
    "\n",
    "    experiment['1p1'] = res_1[-2:-1][0]['eval']\n",
    "    experiment['pi'] = res_2[0]['eval']\n",
    "    experiment['pni'] = res_3[0]['eval']\n",
    "\n",
    "    return experiment, error_history\n",
    "\n",
    "\n",
    "experiments = []\n",
    "num_exp = 1\n",
    "for i in range(num_exp):\n",
    "    experiments.append(f1(i))"
   ],
   "metadata": {
    "collapsed": false,
    "pycharm": {
     "name": "#%%\n"
    }
   }
  },
  {
   "cell_type": "code",
   "execution_count": 6,
   "outputs": [
    {
     "name": "stdout",
     "output_type": "stream",
     "text": [
      "[({'1p1': 100.45295610503354, 'pi': 43.6519161497062, 'pni': 44.76161994148123}, {'1p1': {'checkpoints': [2, 3, 4, 5, 6, 7, 8, 14, 23, 39, 67, 115, 197, 339, 582, 1000, 1001], 'values': [0, 0, 0, 0, 0, 0, 0, 0, 0, 0, 0, 0, 0, 0, 0, 0, 0]}, 'pi': {'checkpoints': [30, 50, 70, 90, 110, 130, 170, 270, 470, 790, 1350, 2310, 3950, 6790, 11650, 20010, 20010], 'values': [0, 0, 0, 0, 0, 0, 0, 0, 0, 0, 0, 0, 0, 0, 0, 0, 0]}, 'pni': {'checkpoints': [30, 50, 70, 90, 110, 130, 170, 270, 470, 790, 1350, 2310, 3950, 6790, 11650, 20010, 20010], 'values': [0, 0, 0, 0, 0, 0, 0, 0, 0, 0, 0, 0, 0, 0, 0, 0, 0]}})]\n"
     ]
    }
   ],
   "source": [
    "print(experiments)"
   ],
   "metadata": {
    "collapsed": false,
    "pycharm": {
     "name": "#%%\n"
    }
   }
  },
  {
   "cell_type": "code",
   "execution_count": 4,
   "outputs": [
    {
     "ename": "TypeError",
     "evalue": "tuple indices must be integers or slices, not str",
     "output_type": "error",
     "traceback": [
      "\u001B[1;31m---------------------------------------------------------------------------\u001B[0m",
      "\u001B[1;31mTypeError\u001B[0m                                 Traceback (most recent call last)",
      "Cell \u001B[1;32mIn [4], line 1\u001B[0m\n\u001B[1;32m----> 1\u001B[0m res_1p1 \u001B[38;5;241m=\u001B[39m [e[\u001B[38;5;124m'\u001B[39m\u001B[38;5;124m1p1\u001B[39m\u001B[38;5;124m'\u001B[39m] \u001B[38;5;28;01mfor\u001B[39;00m e \u001B[38;5;129;01min\u001B[39;00m experiments]\n\u001B[0;32m      2\u001B[0m res_pi \u001B[38;5;241m=\u001B[39m [e[\u001B[38;5;124m'\u001B[39m\u001B[38;5;124mpi\u001B[39m\u001B[38;5;124m'\u001B[39m] \u001B[38;5;28;01mfor\u001B[39;00m e \u001B[38;5;129;01min\u001B[39;00m experiments]\n\u001B[0;32m      3\u001B[0m res_pni \u001B[38;5;241m=\u001B[39m [e[\u001B[38;5;124m'\u001B[39m\u001B[38;5;124mpni\u001B[39m\u001B[38;5;124m'\u001B[39m] \u001B[38;5;28;01mfor\u001B[39;00m e \u001B[38;5;129;01min\u001B[39;00m experiments]\n",
      "Cell \u001B[1;32mIn [4], line 1\u001B[0m, in \u001B[0;36m<listcomp>\u001B[1;34m(.0)\u001B[0m\n\u001B[1;32m----> 1\u001B[0m res_1p1 \u001B[38;5;241m=\u001B[39m [\u001B[43me\u001B[49m\u001B[43m[\u001B[49m\u001B[38;5;124;43m'\u001B[39;49m\u001B[38;5;124;43m1p1\u001B[39;49m\u001B[38;5;124;43m'\u001B[39;49m\u001B[43m]\u001B[49m \u001B[38;5;28;01mfor\u001B[39;00m e \u001B[38;5;129;01min\u001B[39;00m experiments]\n\u001B[0;32m      2\u001B[0m res_pi \u001B[38;5;241m=\u001B[39m [e[\u001B[38;5;124m'\u001B[39m\u001B[38;5;124mpi\u001B[39m\u001B[38;5;124m'\u001B[39m] \u001B[38;5;28;01mfor\u001B[39;00m e \u001B[38;5;129;01min\u001B[39;00m experiments]\n\u001B[0;32m      3\u001B[0m res_pni \u001B[38;5;241m=\u001B[39m [e[\u001B[38;5;124m'\u001B[39m\u001B[38;5;124mpni\u001B[39m\u001B[38;5;124m'\u001B[39m] \u001B[38;5;28;01mfor\u001B[39;00m e \u001B[38;5;129;01min\u001B[39;00m experiments]\n",
      "\u001B[1;31mTypeError\u001B[0m: tuple indices must be integers or slices, not str"
     ]
    }
   ],
   "source": [
    "res_1p1 = [e['1p1'] for e in experiments]\n",
    "res_pi = [e['pi'] for e in experiments]\n",
    "res_pni = [e['pni'] for e in experiments]\n",
    "\n",
    "tabela = [None, None, None]\n",
    "\n",
    "def table_row(array):\n",
    "    row = [f\"{np.average(array):.2f}\", f\"{np.min(array):.2f}\", f\"{np.max(array):.2f}\", f\"{np.median(array):.2f}\",\n",
    "           f\"{np.std(array):.2f}\"]\n",
    "    return row\n",
    "\n",
    "\n",
    "tabela[0] = table_row(res_1p1)\n",
    "tabela[1] = table_row(res_pi)\n",
    "tabela[2] = table_row(res_pni)\n",
    "\n",
    "fig, ax = plt.subplots()\n",
    "# hide axes\n",
    "fig.patch.set_visible(False)\n",
    "\n",
    "ax.axis('off')\n",
    "ax.axis('tight')\n",
    "colLabels = ['Media', 'Melhor', 'Pior', 'Mediana', 'Desvio Padrão']\n",
    "rowLabels = [\"(1+1)-ES\", \"Pop. Iso.\", \"Pop. N. Iso.\"]\n",
    "table = ax.table(tabela, colLabels=colLabels, rowLabels=rowLabels, loc='center')\n",
    "table.scale(3, 2)\n",
    "table.set_fontsize(15)\n",
    "fig.tight_layout()\n",
    "\n",
    "fig_boxplot, ax_boxplot = plt.subplots()\n",
    "ax_boxplot.boxplot(x=[res_1p1, res_pi, res_pni], labels=[\"(1+1)-ES\", \"Pop. Iso.\", \"Pop. N. Iso.\"])\n",
    "\n",
    "plt.show()"
   ],
   "metadata": {
    "collapsed": false,
    "pycharm": {
     "name": "#%%\n"
    }
   }
  }
 ],
 "metadata": {
  "kernelspec": {
   "display_name": "Python 3",
   "language": "python",
   "name": "python3"
  },
  "language_info": {
   "codemirror_mode": {
    "name": "ipython",
    "version": 2
   },
   "file_extension": ".py",
   "mimetype": "text/x-python",
   "name": "python",
   "nbconvert_exporter": "python",
   "pygments_lexer": "ipython2",
   "version": "2.7.6"
  }
 },
 "nbformat": 4,
 "nbformat_minor": 0
}