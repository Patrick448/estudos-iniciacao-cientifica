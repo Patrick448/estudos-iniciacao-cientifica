{
 "cells": [
  {
   "cell_type": "code",
   "execution_count": 1,
   "metadata": {
    "collapsed": true,
    "pycharm": {
     "name": "#%%\n"
    }
   },
   "outputs": [],
   "source": [
    "from ES import ESAlgorithm\n",
    "import matplotlib.pyplot as plt"
   ]
  },
  {
   "cell_type": "code",
   "execution_count": 3,
   "outputs": [
    {
     "data": {
      "text/plain": "<Figure size 640x480 with 1 Axes>",
      "image/png": "[encoded data removed]"
     },
     "metadata": {},
     "output_type": "display_data"
    },
    {
     "name": "stdout",
     "output_type": "stream",
     "text": [
      "{'dim': {'x': -10, 'y': 10}, 'sigma': {'x': 0.925596638292661, 'y': 0.08712929970154071}, 'eval': 234}\n",
      "{'dim': {'x': -10, 'y': 10}, 'sigma': {'x': 0.4146619399905236, 'y': 0.7742336894342167}, 'eval': 234}\n",
      "{'dim': {'x': -10, 'y': 10}, 'sigma': {'x': 0.5684339488686485, 'y': 0.6176354970758771}, 'eval': 234}\n",
      "{'dim': {'x': -10, 'y': 10}, 'sigma': {'x': 0.6706378696181594, 'y': 0.1289262976548533}, 'eval': 234}\n",
      "{'dim': {'x': -10, 'y': 10}, 'sigma': {'x': 0.10204481074802807, 'y': 0.16130951788499626}, 'eval': 234}\n",
      "{'dim': {'x': -10, 'y': 10}, 'sigma': {'x': 0.9292961975762141, 'y': 0.6674103799636817}, 'eval': 234}\n",
      "{'dim': {'x': -10, 'y': 10}, 'sigma': {'x': 0.36756187004789653, 'y': 0.8919233550156721}, 'eval': 234}\n",
      "{'dim': {'x': -10, 'y': 10}, 'sigma': {'x': 0.7038885835403663, 'y': 0.9194826137446735}, 'eval': 234}\n",
      "{'dim': {'x': -10, 'y': 10}, 'sigma': {'x': 0.9988470065678665, 'y': 0.8681260573682142}, 'eval': 234}\n",
      "{'dim': {'x': -10, 'y': 10}, 'sigma': {'x': 0.5691007386145933, 'y': 0.06916699545513805}, 'eval': 234}\n",
      "{'dim': {'x': -10, 'y': 10}, 'sigma': {'x': 0.855803342392611, 'y': 0.3599780644783639}, 'eval': 234}\n",
      "{'dim': {'x': -10, 'y': 10}, 'sigma': {'x': 0.31194499547960186, 'y': 0.20984374897512215}, 'eval': 234}\n",
      "{'dim': {'x': -10, 'y': 10}, 'sigma': {'x': 0.26332237673715064, 'y': 0.7583786538361414}, 'eval': 234}\n",
      "{'dim': {'x': -10, 'y': 10}, 'sigma': {'x': 0.8726506554473953, 'y': 0.7980468339125637}, 'eval': 234}\n",
      "{'dim': {'x': -10, 'y': 10}, 'sigma': {'x': 0.7308558067701578, 'y': 0.21331197736748198}, 'eval': 234}\n",
      "{'dim': {'x': -10, 'y': 10}, 'sigma': {'x': 0.025662718054531575, 'y': 0.42468546875150626}, 'eval': 234}\n",
      "{'dim': {'x': -10, 'y': 10}, 'sigma': {'x': 0.7851529120231378, 'y': 0.5864101661863267}, 'eval': 234}\n",
      "{'dim': {'x': -10, 'y': 10}, 'sigma': {'x': 0.6394725163987236, 'y': 0.13690027168559893}, 'eval': 234}\n",
      "{'dim': {'x': -10, 'y': 10}, 'sigma': {'x': 0.7740473326986388, 'y': 0.08110138998799676}, 'eval': 234}\n",
      "{'dim': {'x': -10, 'y': 10}, 'sigma': {'x': 0.6360610554471413, 'y': 0.16053882248525642}, 'eval': 234}\n",
      "{'dim': {'x': -10, 'y': 10}, 'sigma': {'x': 0.3984342586196771, 'y': 0.42403225188984195}, 'eval': 234}\n",
      "{'dim': {'x': -10, 'y': 10}, 'sigma': {'x': 0.4893471180486355, 'y': 0.3976148880989944}, 'eval': 234}\n",
      "{'dim': {'x': -10, 'y': 10}, 'sigma': {'x': 1.1442795564219634, 'y': 0.8635707633961698}, 'eval': 234}\n",
      "{'dim': {'x': -10, 'y': 10}, 'sigma': {'x': 0.563756918104356, 'y': 0.751520910690292}, 'eval': 234}\n",
      "{'dim': {'x': -10, 'y': 10}, 'sigma': {'x': 0.43786712198769934, 'y': 0.6465406866966286}, 'eval': 234}\n",
      "{'dim': {'x': -10, 'y': 10}, 'sigma': {'x': 0.21261006015920392, 'y': 0.09420842182520718}, 'eval': 234}\n",
      "{'dim': {'x': -10, 'y': 10}, 'sigma': {'x': 0.4022903569848006, 'y': 0.08395978218774293}, 'eval': 234}\n",
      "{'dim': {'x': -10, 'y': 10}, 'sigma': {'x': 0.38201001871641377, 'y': 0.028923575085929177}, 'eval': 234}\n",
      "{'dim': {'x': -10, 'y': 10}, 'sigma': {'x': 0.3383597186510036, 'y': 0.12004398867800868}, 'eval': 234}\n",
      "{'dim': {'x': -10, 'y': 10}, 'sigma': {'x': 0.2890688173166689, 'y': 1.44102820872964}, 'eval': 234}\n",
      "{'dim': {'x': -10, 'y': 10}, 'sigma': {'x': 0.6201700518591061, 'y': 0.48310309466847967}, 'eval': 234}\n",
      "{'dim': {'x': -10, 'y': 10}, 'sigma': {'x': 0.9159404314943361, 'y': 0.48174179196831857}, 'eval': 234}\n",
      "{'dim': {'x': -10, 'y': 10}, 'sigma': {'x': 0.2964278392108327, 'y': 0.7658199569896826}, 'eval': 234}\n",
      "{'dim': {'x': -10, 'y': 10}, 'sigma': {'x': 0.47580820698887144, 'y': 0.3411170204683521}, 'eval': 234}\n",
      "{'dim': {'x': -10, 'y': 10}, 'sigma': {'x': 0.2922503351848376, 'y': 0.5951929883261436}, 'eval': 234}\n",
      "{'dim': {'x': -10, 'y': 10}, 'sigma': {'x': 0.017009273492889956, 'y': 0.5503437680613257}, 'eval': 234}\n",
      "{'dim': {'x': -10, 'y': 10}, 'sigma': {'x': 0.6920248267360841, 'y': 0.03654144873250737}, 'eval': 234}\n",
      "{'dim': {'x': -10, 'y': 10}, 'sigma': {'x': 2.01771374246601, 'y': 0.03664696582323642}, 'eval': 234}\n",
      "{'dim': {'x': -10, 'y': 10}, 'sigma': {'x': 0.5195072462040985, 'y': 0.16342304177021397}, 'eval': 234}\n",
      "{'dim': {'x': -10, 'y': 10}, 'sigma': {'x': 0.8554362665246507, 'y': 0.6401367022725742}, 'eval': 234}\n",
      "{'dim': {'x': -10, 'y': 10}, 'sigma': {'x': 0.6251845631189316, 'y': 0.4602287714105239}, 'eval': 234}\n",
      "{'dim': {'x': -10, 'y': 10}, 'sigma': {'x': 0.05881571503251498, 'y': 0.9759900672592663}, 'eval': 234}\n",
      "{'dim': {'x': -10, 'y': 10}, 'sigma': {'x': 0.18521848924752346, 'y': 0.176921131209605}, 'eval': 234}\n",
      "{'dim': {'x': -10, 'y': 10}, 'sigma': {'x': 0.38018023199977946, 'y': 0.12365416735969767}, 'eval': 234}\n",
      "{'dim': {'x': -10, 'y': 10}, 'sigma': {'x': 0.6477349312716942, 'y': 0.8963947007359171}, 'eval': 234}\n",
      "{'dim': {'x': -10, 'y': 10}, 'sigma': {'x': 0.8604557305977628, 'y': 0.6262242317980018}, 'eval': 234}\n",
      "{'dim': {'x': -10, 'y': 10}, 'sigma': {'x': 0.8717600235085474, 'y': 0.7835830425344084}, 'eval': 234}\n",
      "{'dim': {'x': -10, 'y': 10}, 'sigma': {'x': 1.2782575760131727, 'y': 0.021539222157732622}, 'eval': 234}\n",
      "{'dim': {'x': -10, 'y': 10}, 'sigma': {'x': 0.24481497804817248, 'y': 0.522351530290062}, 'eval': 234}\n",
      "{'dim': {'x': -10, 'y': 10}, 'sigma': {'x': 0.11314605753956412, 'y': 0.37120771170228234}, 'eval': 234}\n",
      "{'dim': {'x': -10, 'y': 10}, 'sigma': {'x': 0.7467504128571979, 'y': 0.8899237749722132}, 'eval': 234}\n",
      "{'dim': {'x': -10, 'y': 10}, 'sigma': {'x': 1.5066960761841885, 'y': 0.8817798679274971}, 'eval': 234}\n",
      "{'dim': {'x': -10, 'y': 10}, 'sigma': {'x': 0.11433294800135868, 'y': 0.2076885927038158}, 'eval': 234}\n",
      "{'dim': {'x': -10, 'y': 10}, 'sigma': {'x': 0.07889290352548309, 'y': 0.2617376587892638}, 'eval': 234}\n",
      "{'dim': {'x': -10, 'y': 10}, 'sigma': {'x': 0.37122963414402305, 'y': 0.6716682883762816}, 'eval': 234}\n",
      "{'dim': {'x': -10, 'y': 10}, 'sigma': {'x': 0.3877833717931647, 'y': 0.653905377597442}, 'eval': 234}\n",
      "{'dim': {'x': -10, 'y': 10}, 'sigma': {'x': 0.45451031792805374, 'y': 1.169659740998439}, 'eval': 234}\n",
      "{'dim': {'x': -10, 'y': 10}, 'sigma': {'x': 0.391657802340362, 'y': 0.786077076008173}, 'eval': 234}\n",
      "{'dim': {'x': -10, 'y': 10}, 'sigma': {'x': 0.2677213403066413, 'y': 0.18186061766291137}, 'eval': 234}\n",
      "{'dim': {'x': -10, 'y': 10}, 'sigma': {'x': 0.3341986218994936, 'y': 0.3581555729643211}, 'eval': 234}\n",
      "{'dim': {'x': -10, 'y': 10}, 'sigma': {'x': 0.055187861013980696, 'y': 0.30203585401519084}, 'eval': 234}\n",
      "{'dim': {'x': -10, 'y': 10}, 'sigma': {'x': 1.946893617033969, 'y': 0.030428311859516388}, 'eval': 234}\n",
      "{'dim': {'x': -10, 'y': 10}, 'sigma': {'x': 0.7061032058899775, 'y': 0.3374916636528856}, 'eval': 234}\n",
      "{'dim': {'x': -10, 'y': 10}, 'sigma': {'x': 0.7067429443483267, 'y': 0.3672789797990459}, 'eval': 234}\n",
      "{'dim': {'x': -10, 'y': 10}, 'sigma': {'x': 0.8702988337619221, 'y': 0.8280489643740375}, 'eval': 234}\n",
      "{'dim': {'x': -10, 'y': 10}, 'sigma': {'x': 0.8053589982614704, 'y': 1.173533656183298}, 'eval': 234}\n",
      "{'dim': {'x': -10, 'y': 10}, 'sigma': {'x': 1.6182742582267322, 'y': 0.5378214821151441}, 'eval': 234}\n",
      "{'dim': {'x': -10, 'y': 10}, 'sigma': {'x': 0.36099056236675897, 'y': 0.0655919069337929}, 'eval': 234}\n",
      "{'dim': {'x': -10, 'y': 10}, 'sigma': {'x': 0.39588221629932374, 'y': 0.06021104723084303}, 'eval': 234}\n",
      "{'dim': {'x': -10, 'y': 10}, 'sigma': {'x': 0.32452032122902497, 'y': 0.627568471682209}, 'eval': 234}\n",
      "{'dim': {'x': -10, 'y': 10}, 'sigma': {'x': 0.10977040956211513, 'y': 0.10836046130742688}, 'eval': 234}\n",
      "{'dim': {'x': -10, 'y': 10}, 'sigma': {'x': 0.9239221650193621, 'y': 0.5698590553740435}, 'eval': 234}\n",
      "{'dim': {'x': -10, 'y': 10}, 'sigma': {'x': 0.4515401761439128, 'y': 0.7696991866627624}, 'eval': 234}\n",
      "{'dim': {'x': -10, 'y': 10}, 'sigma': {'x': 0.11488942713929792, 'y': 0.3698014552645262}, 'eval': 234}\n",
      "{'dim': {'x': -10, 'y': 10}, 'sigma': {'x': 0.6482942215101766, 'y': 0.23372020388604273}, 'eval': 234}\n",
      "{'dim': {'x': -10, 'y': 10}, 'sigma': {'x': 1.4351375144195417, 'y': 0.5503806465981258}, 'eval': 234}\n",
      "{'dim': {'x': -10, 'y': 10}, 'sigma': {'x': 1.444388584654557, 'y': 0.845537668122866}, 'eval': 234}\n",
      "{'dim': {'x': -10, 'y': 10}, 'sigma': {'x': 0.06987954313938258, 'y': 0.41120589108078115}, 'eval': 234}\n",
      "{'dim': {'x': -10, 'y': 10}, 'sigma': {'x': 0.07143029339066252, 'y': 0.49460618045399085}, 'eval': 234}\n",
      "{'dim': {'x': -10, 'y': 10}, 'sigma': {'x': 0.2941952511030889, 'y': 0.4557073016475845}, 'eval': 234}\n",
      "{'dim': {'x': -10, 'y': 10}, 'sigma': {'x': 2.327849593531924, 'y': 0.12449388376578728}, 'eval': 234}\n",
      "{'dim': {'x': -10, 'y': 10}, 'sigma': {'x': 0.6876257499910812, 'y': 0.0072522073061462335}, 'eval': 234}\n",
      "{'dim': {'x': -10, 'y': 10}, 'sigma': {'x': 0.5220802976930405, 'y': 0.013654476946261629}, 'eval': 234}\n",
      "{'dim': {'x': -10, 'y': 10}, 'sigma': {'x': 0.2608848690038204, 'y': 0.28248711915256086}, 'eval': 234}\n",
      "{'dim': {'x': -10, 'y': 10}, 'sigma': {'x': 0.7993826227838845, 'y': 1.7840005939969041}, 'eval': 234}\n",
      "{'dim': {'x': -10, 'y': 10}, 'sigma': {'x': 0.07785884581417692, 'y': 0.2530410897245954}, 'eval': 234}\n",
      "{'dim': {'x': -10, 'y': 10}, 'sigma': {'x': 0.8205239974224448, 'y': 0.9816973311202863}, 'eval': 234}\n",
      "{'dim': {'x': -10, 'y': 10}, 'sigma': {'x': 0.4813932003902743, 'y': 0.5735594014489821}, 'eval': 234}\n",
      "{'dim': {'x': -10, 'y': 10}, 'sigma': {'x': 0.43455647510959206, 'y': 0.8610894356526549}, 'eval': 234}\n",
      "{'dim': {'x': -10, 'y': 10}, 'sigma': {'x': 0.9235528937735119, 'y': 1.5602573241614284}, 'eval': 234}\n",
      "{'dim': {'x': -10, 'y': 10}, 'sigma': {'x': 1.090949237417059, 'y': 0.5166726907231921}, 'eval': 234}\n",
      "{'dim': {'x': -10, 'y': 10}, 'sigma': {'x': 0.47043133572057055, 'y': 0.36855120163842775}, 'eval': 234}\n",
      "{'dim': {'x': -10, 'y': 10}, 'sigma': {'x': 0.4198943922319215, 'y': 0.36013199005960717}, 'eval': 234}\n",
      "{'dim': {'x': -10, 'y': 10}, 'sigma': {'x': 0.5732724727042552, 'y': 0.4740532078210469}, 'eval': 234}\n",
      "{'dim': {'x': -10, 'y': 10}, 'sigma': {'x': 1.4592689764074263, 'y': 0.3342772069868905}, 'eval': 234}\n",
      "{'dim': {'x': -10, 'y': 10}, 'sigma': {'x': 0.7022212810059584, 'y': 0.39078873336786196}, 'eval': 234}\n",
      "{'dim': {'x': -10, 'y': 10}, 'sigma': {'x': 0.4007624804141303, 'y': 0.21935508822973193}, 'eval': 234}\n",
      "{'dim': {'x': -10, 'y': 10}, 'sigma': {'x': 0.8435771303010156, 'y': 0.07900944099181305}, 'eval': 234}\n",
      "{'dim': {'x': -10, 'y': 10}, 'sigma': {'x': 0.201021211099482, 'y': 1.089174668987532}, 'eval': 234}\n",
      "{'dim': {'x': -10, 'y': 10}, 'sigma': {'x': 0.8267636852950124, 'y': 0.9204966424309432}, 'eval': 234}\n"
     ]
    }
   ],
   "source": [
    "\n",
    "es_alg = ESAlgorithm()\n",
    "es_alg.set_evaluation_expression(\"(x + 2*y - 7)^2 + (2*x + y - 5)^2\")\n",
    "es_alg.set_variable_bounds(\"x\", 10, True, -10, True)\n",
    "es_alg.set_variable_bounds(\"y\", 10, True, -10, True)\n",
    "\n",
    "res = es_alg.populational_non_isotropic_ES(dimension_gen_interval=(-100, 100), sigma_var=0.5, iter=50,seed=0, num_parents=100, num_offspring=200)\n",
    "\n",
    "x_array = [i['dim']['x'] for i in res]\n",
    "y_array = [i['dim']['y'] for i in res]\n",
    "\n",
    "plt.plot(x_array, y_array, 'ro')\n",
    "plt.axis([-10, 10, -10, 10])\n",
    "plt.show()\n",
    "print('\\n'.join([str(d) for d in res]))\n",
    "\n",
    "#print(x_array)\n",
    "#print(y_array)"
   ],
   "metadata": {
    "collapsed": false,
    "pycharm": {
     "name": "#%%\n"
    }
   }
  }
 ],
 "metadata": {
  "kernelspec": {
   "display_name": "Python 3",
   "language": "python",
   "name": "python3"
  },
  "language_info": {
   "codemirror_mode": {
    "name": "ipython",
    "version": 2
   },
   "file_extension": ".py",
   "mimetype": "text/x-python",
   "name": "python",
   "nbconvert_exporter": "python",
   "pygments_lexer": "ipython2",
   "version": "2.7.6"
  }
 },
 "nbformat": 4,
 "nbformat_minor": 0
}